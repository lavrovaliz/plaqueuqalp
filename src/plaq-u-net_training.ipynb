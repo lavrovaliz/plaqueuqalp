{
 "cells": [
  {
   "cell_type": "markdown",
   "metadata": {},
   "source": [
    "# plaq-u-net: multi-patch consensus U-Net for automated detection and segmentation of the carotid arteries on black blood MRI sequences"
   ]
  },
  {
   "cell_type": "markdown",
   "metadata": {},
   "source": [
    "E. Lavrova, 2022  \n",
    "  \n",
    "This is a code supporting the corresponding paper."
   ]
  },
  {
   "cell_type": "markdown",
   "metadata": {},
   "source": [
    "Packages import:"
   ]
  },
  {
   "cell_type": "code",
   "execution_count": 1,
   "metadata": {},
   "outputs": [
    {
     "name": "stderr",
     "output_type": "stream",
     "text": [
      "Using TensorFlow backend.\n",
      "C:\\Users\\E.Lavrova\\AppData\\Roaming\\Python\\Python37\\site-packages\\pandas\\compat\\_optional.py:138: UserWarning: Pandas requires version '2.7.0' or newer of 'numexpr' (version '2.6.9' currently installed).\n",
      "  warnings.warn(msg, UserWarning)\n",
      "C:\\ProgramData\\Anaconda3\\envs\\segway\\lib\\site-packages\\dask\\config.py:168: YAMLLoadWarning: calling yaml.load() without Loader=... is deprecated, as the default Loader is unsafe. Please read https://msg.pyyaml.org/load for full details.\n",
      "  data = yaml.load(f.read()) or {}\n"
     ]
    }
   ],
   "source": [
    "import os\n",
    "import numpy as np\n",
    "from os import listdir\n",
    "from xml.etree import ElementTree\n",
    "from numpy import zeros\n",
    "from numpy import asarray\n",
    "from numpy import expand_dims\n",
    "from numpy import mean\n",
    "import pydicom\n",
    "import random\n",
    "import matplotlib.pyplot as plt\n",
    "import glob\n",
    "import matplotlib.patches as patches\n",
    "\n",
    "from skimage.io import imread, imshow, concatenate_images\n",
    "from skimage.transform import resize\n",
    "from skimage.morphology import label\n",
    "from skimage import morphology\n",
    "from skimage.filters import threshold_otsu, threshold_local\n",
    "\n",
    "import cv2\n",
    "\n",
    "from tqdm import tqdm_notebook, tnrange\n",
    "from itertools import chain\n",
    "from sklearn.model_selection import train_test_split\n",
    "\n",
    "import keras\n",
    "from keras.models import Model, load_model\n",
    "from keras.layers import Input, BatchNormalization, Activation, Dense, Dropout\n",
    "from keras.layers.core import Lambda, RepeatVector, Reshape\n",
    "from keras.layers.convolutional import Conv2D, Conv2DTranspose\n",
    "from keras.layers.pooling import MaxPooling2D, GlobalMaxPool2D\n",
    "from keras.layers.merge import concatenate, add\n",
    "from keras.callbacks import EarlyStopping, ModelCheckpoint, ReduceLROnPlateau\n",
    "from keras.optimizers import Adam\n",
    "from keras.preprocessing.image import ImageDataGenerator, array_to_img, img_to_array, load_img\n",
    "\n",
    "import random\n",
    "import pandas as pd\n",
    "\n",
    "import albumentations as A\n",
    "\n",
    "import SimpleITK as sitk\n",
    "\n",
    "plt.style.use(\"ggplot\")"
   ]
  },
  {
   "cell_type": "markdown",
   "metadata": {},
   "source": [
    "GPU assignment:"
   ]
  },
  {
   "cell_type": "code",
   "execution_count": 2,
   "metadata": {},
   "outputs": [
    {
     "name": "stderr",
     "output_type": "stream",
     "text": [
      "WARNING: Logging before flag parsing goes to stderr.\n",
      "W1011 13:44:33.602886 28200 module_wrapper.py:139] From C:\\ProgramData\\Anaconda3\\envs\\segway\\lib\\site-packages\\keras\\backend\\tensorflow_backend.py:174: The name tf.get_default_session is deprecated. Please use tf.compat.v1.get_default_session instead.\n",
      "\n",
      "W1011 13:44:33.602886 28200 module_wrapper.py:139] From C:\\ProgramData\\Anaconda3\\envs\\segway\\lib\\site-packages\\keras\\backend\\tensorflow_backend.py:181: The name tf.ConfigProto is deprecated. Please use tf.compat.v1.ConfigProto instead.\n",
      "\n",
      "W1011 13:44:33.602886 28200 module_wrapper.py:139] From C:\\ProgramData\\Anaconda3\\envs\\segway\\lib\\site-packages\\keras\\backend\\tensorflow_backend.py:186: The name tf.Session is deprecated. Please use tf.compat.v1.Session instead.\n",
      "\n",
      "W1011 13:44:51.147215 28200 module_wrapper.py:139] From C:\\ProgramData\\Anaconda3\\envs\\segway\\lib\\site-packages\\keras\\backend\\tensorflow_backend.py:190: The name tf.global_variables is deprecated. Please use tf.compat.v1.global_variables instead.\n",
      "\n"
     ]
    },
    {
     "data": {
      "text/plain": [
       "['/job:localhost/replica:0/task:0/device:GPU:0',\n",
       " '/job:localhost/replica:0/task:0/device:GPU:1']"
      ]
     },
     "execution_count": 2,
     "metadata": {},
     "output_type": "execute_result"
    }
   ],
   "source": [
    "os.environ[\"CUDA_DEVICE_ORDER\"] = \"PCI_BUS_ID\"\n",
    "os.environ[\"CUDA_VISIBLE_DEVICES\"] = '1,4'                        \n",
    "import tensorflow as tf\n",
    "import keras.backend as K\n",
    "K.tensorflow_backend._get_available_gpus()"
   ]
  },
  {
   "cell_type": "code",
   "execution_count": 3,
   "metadata": {},
   "outputs": [],
   "source": [
    "import nibabel as nib\n",
    "import pickle"
   ]
  },
  {
   "cell_type": "markdown",
   "metadata": {},
   "source": [
    "## 1. Data load"
   ]
  },
  {
   "cell_type": "code",
   "execution_count": 398,
   "metadata": {},
   "outputs": [],
   "source": [
    "sub_names_train = ['AMC008', 'AMC003', 'AMC011', 'AMC010', 'AMC014', 'AMC013', 'AMC002', 'AMC001', 'AMC018',  \n",
    "                   'MUMC084', 'MUMC072', 'MUMC002', 'MUMC030', 'MUMC065', 'MUMC010', 'MUMC031', 'MUMC037', 'MUMC111', \n",
    "                   'MUMC009', 'MUMC013', 'MUMC033', 'MUMC056', 'MUMC082', 'MUMC035', 'MUMC119', 'MUMC040', 'MUMC118', \n",
    "                   'MUMC089', 'MUMC060', 'MUMC074', 'MUMC011', 'MUMC048', 'MUMC120', 'MUMC077', 'MUMC044', 'MUMC068', \n",
    "                   'MUMC001', 'MUMC125', 'MUMC105', 'MUMC055', 'MUMC098', 'MUMC073', 'MUMC026', 'MUMC099', 'MUMC101', \n",
    "                   'MUMC075', 'MUMC100', 'MUMC076', 'MUMC121', 'MUMC050', 'MUMC061', 'MUMC092', 'MUMC017', 'MUMC109', \n",
    "                   'MUMC091', 'MUMC129', 'MUMC016', 'MUMC067', 'MUMC045', 'MUMC096', 'MUMC028', 'MUMC020', 'MUMC095', \n",
    "                   'MUMC003', 'MUMC117', 'MUMC106', 'MUMC122', 'MUMC019', 'MUMC085', 'MUMC046', 'MUMC116', 'MUMC057', \n",
    "                   'MUMC090', 'MUMC110', 'MUMC024', 'MUMC015', 'MUMC032', 'MUMC039', 'MUMC049', 'MUMC063', 'MUMC021', \n",
    "                   'MUMC029', 'MUMC023', 'MUMC104', 'MUMC066', 'MUMC058', 'MUMC128', 'MUMC053', 'MUMC108', \n",
    "                   'UMCU016', 'UMCU039', 'UMCU001', 'UMCU027', 'UMCU020', 'UMCU009', 'UMCU030', 'UMCU024', 'UMCU002', \n",
    "                   'UMCU022', 'UMCU035', 'UMCU033', 'UMCU038', 'UMCU037', 'UMCU032', 'UMCU031', 'UMCU026']\n",
    "sub_names_valid = ['AMC005', 'AMC007', \n",
    "                   'MUMC123', 'MUMC025', 'MUMC041', 'MUMC124', 'MUMC113', 'MUMC081', 'MUMC103', 'MUMC006', 'MUMC112', \n",
    "                   'MUMC051', 'MUMC008', 'MUMC126', 'MUMC088', 'MUMC097', 'MUMC047', 'MUMC014', 'MUMC078', \n",
    "                   'UMCU010', 'UMCU023', 'UMCU017', 'UMCU012']\n",
    "sub_names_test = ['AMC012', 'AMC006', \n",
    "                  'MUMC094', 'MUMC027', 'MUMC079', 'MUMC052', 'MUMC127', 'MUMC071', 'MUMC038', 'MUMC093', 'MUMC107', \n",
    "                  'MUMC022', 'MUMC114', 'MUMC115', 'MUMC069', 'MUMC130', 'MUMC036', 'MUMC007', 'MUMC059', 'MUMC080', \n",
    "                  'UMCU036', 'UMCU025', 'UMCU008', 'UMCU034']"
   ]
  },
  {
   "cell_type": "code",
   "execution_count": 401,
   "metadata": {},
   "outputs": [],
   "source": [
    "dirname_imgdata = 'D:/Lisa/nnUNet_raw_data_base/nnUNet_raw_data/Task001_CA/imagesTr/'\n",
    "dirname_imgdata_test = 'D:/Lisa/nnUNet_raw_data_base/nnUNet_raw_data/Task001_CA/imagesTs1/'\n",
    "dirname_gtdata = 'D:/Lisa/nnUNet_raw_data_base/nnUNet_raw_data/Task001_CA/labelsTr/'\n",
    "dirname_gtdata_test = 'D:/Lisa/nnUNet_raw_data_base/nnUNet_raw_data/Task001_CA/labelsTs1/'\n",
    "dirname_nnunetdata = 'D:/Lisa/nnUNet_raw_data_base/nnUNet_results/Tr/'\n",
    "dirname_nnunetdata_test = 'D:/Lisa/nnUNet_raw_data_base/nnUNet_results/Ts1/'"
   ]
  },
  {
   "cell_type": "code",
   "execution_count": 424,
   "metadata": {},
   "outputs": [
    {
     "data": {
      "text/plain": [
       "1539"
      ]
     },
     "execution_count": 424,
     "metadata": {},
     "output_type": "execute_result"
    }
   ],
   "source": [
    "n_samples_train = 0\n",
    "\n",
    "for sub_name in sub_names_train:\n",
    "    \n",
    "    filename_img = dirname_imgdata + sub_name + '_0000.nii.gz'\n",
    "    filename_sm = dirname_nnunetdata + sub_name + '.npz'\n",
    "    filename_pkl = dirname_nnunetdata + sub_name + '.pkl'\n",
    "    filename_gt = dirname_gtdata + sub_name + '.nii.gz'\n",
    "    \n",
    "    img = nib.load(filename_img).get_fdata().T\n",
    "    n_samples_train += img.shape[0]\n",
    "    \n",
    "n_samples_train"
   ]
  },
  {
   "cell_type": "code",
   "execution_count": 425,
   "metadata": {},
   "outputs": [
    {
     "data": {
      "text/plain": [
       "339"
      ]
     },
     "execution_count": 425,
     "metadata": {},
     "output_type": "execute_result"
    }
   ],
   "source": [
    "n_samples_valid = 0\n",
    "\n",
    "for sub_name in sub_names_valid:\n",
    "    \n",
    "    filename_img = dirname_imgdata + sub_name + '_0000.nii.gz'\n",
    "    filename_sm = dirname_nnunetdata + sub_name + '.npz'\n",
    "    filename_pkl = dirname_nnunetdata + sub_name + '.pkl'\n",
    "    filename_gt = dirname_gtdata + sub_name + '.nii.gz'\n",
    "    \n",
    "    img = nib.load(filename_img).get_fdata().T\n",
    "    n_samples_valid += img.shape[0]\n",
    "    \n",
    "n_samples_valid"
   ]
  },
  {
   "cell_type": "code",
   "execution_count": 426,
   "metadata": {},
   "outputs": [
    {
     "data": {
      "text/plain": [
       "350"
      ]
     },
     "execution_count": 426,
     "metadata": {},
     "output_type": "execute_result"
    }
   ],
   "source": [
    "n_samples_test = 0\n",
    "\n",
    "for sub_name in sub_names_test:\n",
    "    \n",
    "    filename_img = dirname_imgdata_test + sub_name + '_0000.nii.gz'\n",
    "    filename_sm = dirname_nnunetdata_test + sub_name + '.npz'\n",
    "    filename_pkl = dirname_nnunetdata_test + sub_name + '.pkl'\n",
    "    filename_gt = dirname_gtdata_test + sub_name + '.nii.gz'\n",
    "    \n",
    "    img = nib.load(filename_img).get_fdata().T\n",
    "    n_samples_test += img.shape[0]\n",
    "    \n",
    "n_samples_test"
   ]
  },
  {
   "cell_type": "code",
   "execution_count": 427,
   "metadata": {},
   "outputs": [],
   "source": [
    "IMG_WIDTH = 256\n",
    "IMG_HEIGHT = 512\n",
    "IMG_SIDE = 64\n",
    "IMG_SIDE_LARGE = 128"
   ]
  },
  {
   "cell_type": "code",
   "execution_count": 428,
   "metadata": {},
   "outputs": [],
   "source": [
    "def generate_crop(gt_xmin, gt_xmax, gt_ymin, gt_ymax, im_side=IMG_SIDE, rs=0):\n",
    "    \n",
    "    random.seed(rs)\n",
    "        \n",
    "    side_x = gt_xmax - gt_xmin\n",
    "    side_y = gt_ymax - gt_ymin\n",
    "    \n",
    "    crop_xmin = max(0, gt_xmin-random.randint(2, max(2, IMG_SIDE_LARGE-side_x)))\n",
    "    crop_ymin = max(0, gt_ymin-random.randint(2, max(2, IMG_SIDE_LARGE-side_y)))\n",
    "    \n",
    "    crop_xmax = crop_xmin + im_side\n",
    "    crop_ymax = crop_ymin + im_side\n",
    "    \n",
    "    if crop_xmax>IMG_HEIGHT-1:\n",
    "        crop_xmax=IMG_HEIGHT\n",
    "        crop_xmin=crop_xmax-im_side\n",
    "        \n",
    "    if crop_ymax>IMG_WIDTH-1:\n",
    "        crop_ymax=IMG_WIDTH\n",
    "        crop_ymin=crop_ymax-im_side\n",
    "\n",
    "    crop = [crop_xmin, crop_xmax, crop_ymin, crop_ymax]\n",
    "    \n",
    "    return crop"
   ]
  },
  {
   "cell_type": "code",
   "execution_count": 429,
   "metadata": {},
   "outputs": [],
   "source": [
    "def norm_crop(img_arr, gt_arr, n_crops = 5):\n",
    "\n",
    "    img_min = np.min(img_arr) \n",
    "    img_max = np.max(img_arr) \n",
    "    \n",
    "    img_norm = np.copy((img_arr - img_min)/(img_max - img_min)*255).astype(np.uint8)\n",
    "\n",
    "    gt_xmin = np.min(np.where(gt_arr > 0)[0])\n",
    "    gt_xmax = np.max(np.where(gt_arr > 0)[0])\n",
    "    gt_ymin = np.min(np.where(gt_arr > 0)[1])\n",
    "    gt_ymax = np.max(np.where(gt_arr > 0)[1])\n",
    "    \n",
    "    crops = []\n",
    "    for i in range(0, n_crops):\n",
    "        crop = generate_crop(gt_xmin, gt_xmax, gt_ymin, gt_ymax, rs=i)\n",
    "        crops.append(crop)\n",
    "        \n",
    "    return img_norm, crops\n",
    "    "
   ]
  },
  {
   "cell_type": "code",
   "execution_count": 430,
   "metadata": {},
   "outputs": [],
   "source": [
    "def fill_arrays(X, y, sub_names, dirname_img, dirname_nnunet, dirname_gt, n_crops = 5):\n",
    "    \n",
    "    i = 0\n",
    "\n",
    "    for sub_name in sub_names:\n",
    "       \n",
    "\n",
    "        filename_img = dirname_img + sub_name + '_0000.nii.gz'\n",
    "        filename_sm = dirname_nnunet + sub_name + '.npz'\n",
    "        filename_pkl = dirname_nnunet + sub_name + '.pkl'\n",
    "        filename_gt = dirname_gt + sub_name + '.nii.gz'\n",
    "\n",
    "        img = nib.load(filename_img).get_fdata().T\n",
    "        gt = nib.load(filename_gt).get_fdata().T\n",
    "        sm_cropped = np.load(filename_sm)['softmax']\n",
    "        with open(filename_pkl, 'rb') as f:\n",
    "            p = pickle.load(f)\n",
    "        crop_box = p['crop_bbox']\n",
    "        sm = np.zeros(img.shape, dtype=np.float16)\n",
    "        sm[crop_box[0][0]:crop_box[0][1], crop_box[1][0]:crop_box[1][1], crop_box[2][0]:crop_box[2][1]] = sm_cropped[1, ...]\n",
    "\n",
    "        for j in range (0, img.shape[0]):\n",
    "            img_norm, crops = norm_crop(img[j, ...], gt[j, ...], n_crops)\n",
    "            for crop in crops:\n",
    "                img_norm_crop = np.copy(img_norm[crop[0]:crop[1], crop[2]:crop[3]])\n",
    "                gt_crop = np.copy(gt[j, crop[0]:crop[1], crop[2]:crop[3]])\n",
    "                sm_crop = np.copy(255*sm[j, crop[0]:crop[1], crop[2]:crop[3]])\n",
    "                X[i, ..., 0] = img_norm_crop\n",
    "                X[i, ..., 1] = sm_crop\n",
    "                y[i, ..., 0] = gt_crop\n",
    "                i += 1\n",
    "                \n",
    "    return None\n",
    "    "
   ]
  },
  {
   "cell_type": "code",
   "execution_count": 431,
   "metadata": {},
   "outputs": [],
   "source": [
    "X_train = np.zeros((n_samples_train*5, IMG_SIDE, IMG_SIDE, 2), dtype = np.uint8)\n",
    "y_train = np.zeros((n_samples_train*5, IMG_SIDE, IMG_SIDE, 1), dtype = np.uint8)\n",
    "\n",
    "X_valid = np.zeros((n_samples_valid*5, IMG_SIDE, IMG_SIDE, 2), dtype = np.uint8)\n",
    "y_valid = np.zeros((n_samples_valid*5, IMG_SIDE, IMG_SIDE, 1), dtype = np.uint8)"
   ]
  },
  {
   "cell_type": "code",
   "execution_count": 432,
   "metadata": {},
   "outputs": [],
   "source": [
    "X_test = np.zeros((n_samples_test, IMG_SIDE, IMG_SIDE, 2), dtype = np.uint8)\n",
    "y_test = np.zeros((n_samples_test, IMG_SIDE, IMG_SIDE, 1), dtype = np.uint8)"
   ]
  },
  {
   "cell_type": "code",
   "execution_count": 433,
   "metadata": {},
   "outputs": [],
   "source": [
    "fill_arrays(X_train, y_train, sub_names_train, dirname_imgdata, dirname_nnunetdata, dirname_gtdata)\n",
    "fill_arrays(X_valid, y_valid, sub_names_valid, dirname_imgdata, dirname_nnunetdata, dirname_gtdata)"
   ]
  },
  {
   "cell_type": "code",
   "execution_count": 434,
   "metadata": {},
   "outputs": [],
   "source": [
    "fill_arrays(X_test, y_test, sub_names_test, dirname_imgdata_test, dirname_nnunetdata_test, dirname_gtdata_test, n_crops=1)"
   ]
  },
  {
   "cell_type": "code",
   "execution_count": 435,
   "metadata": {
    "scrolled": true
   },
   "outputs": [
    {
     "name": "stderr",
     "output_type": "stream",
     "text": [
      "C:\\ProgramData\\Anaconda3\\envs\\segway\\lib\\site-packages\\ipykernel_launcher.py:6: UserWarning: No contour levels were found within the data range.\n",
      "  \n"
     ]
    },
    {
     "data": {
      "image/png": "[encoded data removed]",
      "text/plain": [
       "<Figure size 432x288 with 1 Axes>"
      ]
     },
     "metadata": {
      "needs_background": "light"
     },
     "output_type": "display_data"
    },
    {
     "data": {
      "image/png": "[encoded data removed]",
      "text/plain": [
       "<Figure size 432x288 with 1 Axes>"
      ]
     },
     "metadata": {
      "needs_background": "light"
     },
     "output_type": "display_data"
    },
    {
     "data": {
      "image/png": "[encoded data removed]",
      "text/plain": [
       "<Figure size 432x288 with 1 Axes>"
      ]
     },
     "metadata": {
      "needs_background": "light"
     },
     "output_type": "display_data"
    },
    {
     "data": {
      "image/png": "[encoded data removed]",
      "text/plain": [
       "<Figure size 432x288 with 1 Axes>"
      ]
     },
     "metadata": {
      "needs_background": "light"
     },
     "output_type": "display_data"
    },
    {
     "data": {
      "image/png": "[encoded data removed]",
      "text/plain": [
       "<Figure size 432x288 with 1 Axes>"
      ]
     },
     "metadata": {
      "needs_background": "light"
     },
     "output_type": "display_data"
    },
    {
     "data": {
      "image/png": "[encoded data removed]",
      "text/plain": [
       "<Figure size 432x288 with 1 Axes>"
      ]
     },
     "metadata": {
      "needs_background": "light"
     },
     "output_type": "display_data"
    },
    {
     "data": {
      "image/png": "[encoded data removed]",
      "text/plain": [
       "<Figure size 432x288 with 1 Axes>"
      ]
     },
     "metadata": {
      "needs_background": "light"
     },
     "output_type": "display_data"
    },
    {
     "data": {
      "image/png": "[encoded data removed]",
      "text/plain": [
       "<Figure size 432x288 with 1 Axes>"
      ]
     },
     "metadata": {
      "needs_background": "light"
     },
     "output_type": "display_data"
    },
    {
     "data": {
      "image/png": "[encoded data removed]",
      "text/plain": [
       "<Figure size 432x288 with 1 Axes>"
      ]
     },
     "metadata": {
      "needs_background": "light"
     },
     "output_type": "display_data"
    },
    {
     "data": {
      "image/png": "[encoded data removed]",
      "text/plain": [
       "<Figure size 432x288 with 1 Axes>"
      ]
     },
     "metadata": {
      "needs_background": "light"
     },
     "output_type": "display_data"
    }
   ],
   "source": [
    "# visualization of the training patches\n",
    "\n",
    "for i in range (145, 155):\n",
    "    plt.imshow(X_train[i, ..., 0], cmap = 'bone')\n",
    "    plt.imshow(X_train[i, ..., 1], alpha = 0.3)\n",
    "    plt.contour(y_train[i, ..., 0], colors='r', levels=[0.5])\n",
    "    plt.axis('Off')\n",
    "    plt.show()"
   ]
  },
  {
   "cell_type": "code",
   "execution_count": 444,
   "metadata": {},
   "outputs": [],
   "source": [
    "#for i in range (145, 155):\n",
    "#    plt.imshow(X_test[i, ..., 0], cmap = 'bone')\n",
    "#    plt.imshow(X_test[i, ..., 1], alpha = 0.3)\n",
    "#    plt.contour(y_test[i, ..., 0], colors='r', levels=[0.5])\n",
    "#    plt.axis('Off')\n",
    "#    plt.show()"
   ]
  },
  {
   "cell_type": "markdown",
   "metadata": {},
   "source": [
    "## 2. Data augmentation"
   ]
  },
  {
   "cell_type": "markdown",
   "metadata": {},
   "source": [
    "Defining transformations:"
   ]
  },
  {
   "cell_type": "code",
   "execution_count": 436,
   "metadata": {},
   "outputs": [],
   "source": [
    "transform = A.Compose([\n",
    "    A.HorizontalFlip(p=0.5),\n",
    "    A.RandomSizedCrop(min_max_height=(48, 64), height=64, width=64, p=0.5),\n",
    "    A.VerticalFlip(p=0.5),\n",
    "    A.Blur(p=0.5),\n",
    "    A.GaussNoise(p=0.5),\n",
    "    A.RandomBrightnessContrast(brightness_limit=0.25, contrast_limit=0.25, p=0.5),\n",
    "    A.RandomGamma(p=0.5)\n",
    "])"
   ]
  },
  {
   "cell_type": "markdown",
   "metadata": {},
   "source": [
    "Generation of the augmented patches:"
   ]
  },
  {
   "cell_type": "code",
   "execution_count": 437,
   "metadata": {},
   "outputs": [],
   "source": [
    "# n_augms random transformations of the images X and masks y\n",
    "\n",
    "def augment_ds(X, y, n_augms):\n",
    "    \n",
    "    counter = 0\n",
    "    dim = y[0, ..., 0].shape\n",
    "    n_samples = y.shape[0]\n",
    "    \n",
    "    X_aug = np.zeros((int(n_samples*n_augms), dim[0], dim[1], 2), dtype = np.uint8)\n",
    "    y_aug = np.zeros((int(n_samples*n_augms), dim[0], dim[1], 1), dtype = np.uint8)\n",
    "    \n",
    "    for smpl in range (0, n_samples):\n",
    "        for augm in range (0, n_augms):\n",
    "\n",
    "            random.seed(counter)\n",
    "            augmented = transform(image=X[smpl, ..., 0], mask=y[smpl, ..., 0])\n",
    "            X_aug[counter, ..., 0] = augmented['image']\n",
    "            y_aug[counter, ..., 0] = augmented['mask']\n",
    "            random.seed(counter)\n",
    "            augmented = transform(image=X[smpl, ..., 0], mask=X[smpl, ..., 1])\n",
    "            X_aug[counter, ..., 1] = augmented['mask']\n",
    "            counter += 1\n",
    "            \n",
    "    return X_aug, y_aug    "
   ]
  },
  {
   "cell_type": "markdown",
   "metadata": {},
   "source": [
    "Writing augmented data into arrays:"
   ]
  },
  {
   "cell_type": "code",
   "execution_count": 438,
   "metadata": {},
   "outputs": [],
   "source": [
    "X_train_aug, y_train_aug = augment_ds(X_train, y_train, 10)\n",
    "X_valid_aug, y_valid_aug = augment_ds(X_valid, y_valid, 10)"
   ]
  },
  {
   "cell_type": "markdown",
   "metadata": {},
   "source": [
    "Visualization of the transformed images:"
   ]
  },
  {
   "cell_type": "code",
   "execution_count": 439,
   "metadata": {},
   "outputs": [
    {
     "data": {
      "image/png": "[encoded data removed]",
      "text/plain": [
       "<Figure size 720x720 with 4 Axes>"
      ]
     },
     "metadata": {
      "needs_background": "light"
     },
     "output_type": "display_data"
    }
   ],
   "source": [
    "n_sample = 150\n",
    "\n",
    "plt.figure(figsize=(10,10))\n",
    "plt.subplot(221)\n",
    "plt.imshow(X_train[n_sample//10, ..., 0])\n",
    "plt.contour(y_train[n_sample//10, ..., 0], colors='r')\n",
    "plt.subplot(222)\n",
    "plt.imshow(X_train_aug[n_sample, ..., 0])\n",
    "plt.contour(y_train_aug[n_sample, ..., 0], colors='r')\n",
    "plt.subplot(223)\n",
    "plt.imshow(X_train[n_sample//10, ..., 1], vmin=0, vmax=255)\n",
    "plt.contour(y_train[n_sample//10, ..., 0], colors='r')\n",
    "plt.subplot(224)\n",
    "plt.imshow(X_train_aug[n_sample, ..., 1], vmin=0, vmax=255)\n",
    "plt.contour(y_train_aug[n_sample, ..., 0], colors='r')\n",
    "plt.show()"
   ]
  },
  {
   "cell_type": "markdown",
   "metadata": {},
   "source": [
    "## 3. U-Net construction"
   ]
  },
  {
   "cell_type": "markdown",
   "metadata": {},
   "source": [
    "Defining blocks:"
   ]
  },
  {
   "cell_type": "code",
   "execution_count": 440,
   "metadata": {},
   "outputs": [],
   "source": [
    "def conv2d_block(input_tensor, n_filters, kernel_size = 3, batchnorm = True):\n",
    "    \"\"\"Function to add 2 convolutional layers with the parameters passed to it\"\"\"\n",
    "    # first layer\n",
    "    x = Conv2D(filters = n_filters, kernel_size = (kernel_size, kernel_size),\\\n",
    "              kernel_initializer = 'he_normal', padding = 'same')(input_tensor)\n",
    "    if batchnorm:\n",
    "        x = BatchNormalization()(x)\n",
    "    x = Activation('relu')(x)\n",
    "\n",
    "    # second layer\n",
    "    x = Conv2D(filters = n_filters, kernel_size = (kernel_size, kernel_size),\\\n",
    "              kernel_initializer = 'he_normal', padding = 'same')(input_tensor)\n",
    "    if batchnorm:\n",
    "        x = BatchNormalization()(x)\n",
    "    x = Activation('relu')(x)\n",
    "\n",
    "    return x\n",
    "\n",
    "def get_unet(input_img, n_filters = 8, dropout = 0.2, batchnorm = True):\n",
    "    \"\"\"Function to define the UNET Model\"\"\"\n",
    "    # Contracting Path\n",
    "    c1 = conv2d_block(input_img, n_filters * 1, kernel_size = 3, batchnorm = batchnorm)\n",
    "    p1 = MaxPooling2D((2, 2))(c1)\n",
    "    p1 = Dropout(dropout)(p1)\n",
    "\n",
    "    c2 = conv2d_block(p1, n_filters * 2, kernel_size = 3, batchnorm = batchnorm)\n",
    "    p2 = MaxPooling2D((2, 2))(c2)\n",
    "    p2 = Dropout(dropout)(p2)\n",
    "\n",
    "    c3 = conv2d_block(p2, n_filters * 4, kernel_size = 3, batchnorm = batchnorm)\n",
    "    p3 = MaxPooling2D((2, 2))(c3)\n",
    "    p3 = Dropout(dropout)(p3)\n",
    "\n",
    "    c4 = conv2d_block(p3, n_filters * 8, kernel_size = 3, batchnorm = batchnorm)\n",
    "    p4 = MaxPooling2D((2, 2))(c4)\n",
    "    p4 = Dropout(dropout)(p4)\n",
    "\n",
    "    c5 = conv2d_block(p4, n_filters = n_filters * 16, kernel_size = 3, batchnorm = batchnorm)\n",
    "\n",
    "    # Expansive Path\n",
    "    u6 = Conv2DTranspose(n_filters * 8, (3, 3), strides = (2, 2), padding = 'same')(c5)\n",
    "    u6 = concatenate([u6, c4])\n",
    "    u6 = Dropout(dropout)(u6)\n",
    "    c6 = conv2d_block(u6, n_filters * 8, kernel_size = 3, batchnorm = batchnorm)\n",
    "\n",
    "    u7 = Conv2DTranspose(n_filters * 4, (3, 3), strides = (2, 2), padding = 'same')(c6)\n",
    "    u7 = concatenate([u7, c3])\n",
    "    u7 = Dropout(dropout)(u7)\n",
    "    c7 = conv2d_block(u7, n_filters * 4, kernel_size = 3, batchnorm = batchnorm)\n",
    "\n",
    "    u8 = Conv2DTranspose(n_filters * 2, (3, 3), strides = (2, 2), padding = 'same')(c7)\n",
    "    u8 = concatenate([u8, c2])\n",
    "    u8 = Dropout(dropout)(u8)\n",
    "    c8 = conv2d_block(u8, n_filters * 2, kernel_size = 3, batchnorm = batchnorm)\n",
    "\n",
    "    u9 = Conv2DTranspose(n_filters * 1, (3, 3), strides = (2, 2), padding = 'same')(c8)\n",
    "    u9 = concatenate([u9, c1])\n",
    "    u9 = Dropout(dropout)(u9)\n",
    "    c9 = conv2d_block(u9, n_filters * 1, kernel_size = 3, batchnorm = batchnorm)\n",
    "\n",
    "    outputs = Conv2D(1, (1, 1), activation='sigmoid')(c9)\n",
    "    model = Model(inputs=[input_img], outputs=[outputs])\n",
    "    return model"
   ]
  },
  {
   "cell_type": "markdown",
   "metadata": {},
   "source": [
    "Custom scores:"
   ]
  },
  {
   "cell_type": "code",
   "execution_count": 441,
   "metadata": {},
   "outputs": [],
   "source": [
    "def dice_coef(y_true, y_pred):\n",
    "    from keras import backend as K\n",
    "    smooth=1\n",
    "    y_true_f = K.flatten(y_true)\n",
    "    y_pred_f = K.flatten(y_pred)\n",
    "    intersection = K.sum(y_true_f * y_pred_f)\n",
    "    return (2. * intersection + smooth) / (K.sum(y_true_f) + K.sum(y_pred_f) + smooth)\n",
    "\n",
    "def mean_iou(y_true, y_pred):\n",
    "    prec = []\n",
    "    for t in np.arange(0.5, 1.0, 0.05):\n",
    "        y_pred_ = tf.to_int32(y_pred > t)\n",
    "        score, up_opt = tf.metrics.mean_iou(y_true, y_pred_, 2)\n",
    "        K.get_session().run(tf.local_variables_initializer())\n",
    "        with tf.control_dependencies([up_opt]):\n",
    "            score = tf.identity(score)\n",
    "        prec.append(score)\n",
    "    return K.mean(K.stack(prec), axis=0)\n",
    "\n",
    "def dice_loss(y_true, y_pred):\n",
    "    return 1 - dice_coef(y_true, y_pred)\n",
    "\n",
    "def custom_loss(y_true, y_pred):\n",
    "    from keras.losses import binary_crossentropy\n",
    "    return 0.5*keras.losses.binary_crossentropy(y_true,y_pred)+0.5*dice_loss(y_true,y_pred)"
   ]
  },
  {
   "cell_type": "markdown",
   "metadata": {},
   "source": [
    "Model compilation:"
   ]
  },
  {
   "cell_type": "code",
   "execution_count": 442,
   "metadata": {},
   "outputs": [
    {
     "name": "stdout",
     "output_type": "stream",
     "text": [
      "__________________________________________________________________________________________________\n",
      "Layer (type)                    Output Shape         Param #     Connected to                     \n",
      "==================================================================================================\n",
      "img (InputLayer)                (None, 64, 64, 2)    0                                            \n",
      "__________________________________________________________________________________________________\n",
      "conv2d_116 (Conv2D)             (None, 64, 64, 16)   304         img[0][0]                        \n",
      "__________________________________________________________________________________________________\n",
      "batch_normalization_110 (BatchN (None, 64, 64, 16)   64          conv2d_116[0][0]                 \n",
      "__________________________________________________________________________________________________\n",
      "activation_110 (Activation)     (None, 64, 64, 16)   0           batch_normalization_110[0][0]    \n",
      "__________________________________________________________________________________________________\n",
      "max_pooling2d_25 (MaxPooling2D) (None, 32, 32, 16)   0           activation_110[0][0]             \n",
      "__________________________________________________________________________________________________\n",
      "dropout_49 (Dropout)            (None, 32, 32, 16)   0           max_pooling2d_25[0][0]           \n",
      "__________________________________________________________________________________________________\n",
      "conv2d_118 (Conv2D)             (None, 32, 32, 32)   4640        dropout_49[0][0]                 \n",
      "__________________________________________________________________________________________________\n",
      "batch_normalization_112 (BatchN (None, 32, 32, 32)   128         conv2d_118[0][0]                 \n",
      "__________________________________________________________________________________________________\n",
      "activation_112 (Activation)     (None, 32, 32, 32)   0           batch_normalization_112[0][0]    \n",
      "__________________________________________________________________________________________________\n",
      "max_pooling2d_26 (MaxPooling2D) (None, 16, 16, 32)   0           activation_112[0][0]             \n",
      "__________________________________________________________________________________________________\n",
      "dropout_50 (Dropout)            (None, 16, 16, 32)   0           max_pooling2d_26[0][0]           \n",
      "__________________________________________________________________________________________________\n",
      "conv2d_120 (Conv2D)             (None, 16, 16, 64)   18496       dropout_50[0][0]                 \n",
      "__________________________________________________________________________________________________\n",
      "batch_normalization_114 (BatchN (None, 16, 16, 64)   256         conv2d_120[0][0]                 \n",
      "__________________________________________________________________________________________________\n",
      "activation_114 (Activation)     (None, 16, 16, 64)   0           batch_normalization_114[0][0]    \n",
      "__________________________________________________________________________________________________\n",
      "max_pooling2d_27 (MaxPooling2D) (None, 8, 8, 64)     0           activation_114[0][0]             \n",
      "__________________________________________________________________________________________________\n",
      "dropout_51 (Dropout)            (None, 8, 8, 64)     0           max_pooling2d_27[0][0]           \n",
      "__________________________________________________________________________________________________\n",
      "conv2d_122 (Conv2D)             (None, 8, 8, 128)    73856       dropout_51[0][0]                 \n",
      "__________________________________________________________________________________________________\n",
      "batch_normalization_116 (BatchN (None, 8, 8, 128)    512         conv2d_122[0][0]                 \n",
      "__________________________________________________________________________________________________\n",
      "activation_116 (Activation)     (None, 8, 8, 128)    0           batch_normalization_116[0][0]    \n",
      "__________________________________________________________________________________________________\n",
      "max_pooling2d_28 (MaxPooling2D) (None, 4, 4, 128)    0           activation_116[0][0]             \n",
      "__________________________________________________________________________________________________\n",
      "dropout_52 (Dropout)            (None, 4, 4, 128)    0           max_pooling2d_28[0][0]           \n",
      "__________________________________________________________________________________________________\n",
      "conv2d_124 (Conv2D)             (None, 4, 4, 256)    295168      dropout_52[0][0]                 \n",
      "__________________________________________________________________________________________________\n",
      "batch_normalization_118 (BatchN (None, 4, 4, 256)    1024        conv2d_124[0][0]                 \n",
      "__________________________________________________________________________________________________\n",
      "activation_118 (Activation)     (None, 4, 4, 256)    0           batch_normalization_118[0][0]    \n",
      "__________________________________________________________________________________________________\n",
      "conv2d_transpose_25 (Conv2DTran (None, 8, 8, 128)    295040      activation_118[0][0]             \n",
      "__________________________________________________________________________________________________\n",
      "concatenate_25 (Concatenate)    (None, 8, 8, 256)    0           conv2d_transpose_25[0][0]        \n",
      "                                                                 activation_116[0][0]             \n",
      "__________________________________________________________________________________________________\n",
      "dropout_53 (Dropout)            (None, 8, 8, 256)    0           concatenate_25[0][0]             \n",
      "__________________________________________________________________________________________________\n",
      "conv2d_126 (Conv2D)             (None, 8, 8, 128)    295040      dropout_53[0][0]                 \n",
      "__________________________________________________________________________________________________\n",
      "batch_normalization_120 (BatchN (None, 8, 8, 128)    512         conv2d_126[0][0]                 \n",
      "__________________________________________________________________________________________________\n",
      "activation_120 (Activation)     (None, 8, 8, 128)    0           batch_normalization_120[0][0]    \n",
      "__________________________________________________________________________________________________\n",
      "conv2d_transpose_26 (Conv2DTran (None, 16, 16, 64)   73792       activation_120[0][0]             \n",
      "__________________________________________________________________________________________________\n",
      "concatenate_26 (Concatenate)    (None, 16, 16, 128)  0           conv2d_transpose_26[0][0]        \n",
      "                                                                 activation_114[0][0]             \n",
      "__________________________________________________________________________________________________\n",
      "dropout_54 (Dropout)            (None, 16, 16, 128)  0           concatenate_26[0][0]             \n",
      "__________________________________________________________________________________________________\n",
      "conv2d_128 (Conv2D)             (None, 16, 16, 64)   73792       dropout_54[0][0]                 \n",
      "__________________________________________________________________________________________________\n",
      "batch_normalization_122 (BatchN (None, 16, 16, 64)   256         conv2d_128[0][0]                 \n",
      "__________________________________________________________________________________________________\n",
      "activation_122 (Activation)     (None, 16, 16, 64)   0           batch_normalization_122[0][0]    \n",
      "__________________________________________________________________________________________________\n",
      "conv2d_transpose_27 (Conv2DTran (None, 32, 32, 32)   18464       activation_122[0][0]             \n",
      "__________________________________________________________________________________________________\n",
      "concatenate_27 (Concatenate)    (None, 32, 32, 64)   0           conv2d_transpose_27[0][0]        \n",
      "                                                                 activation_112[0][0]             \n",
      "__________________________________________________________________________________________________\n",
      "dropout_55 (Dropout)            (None, 32, 32, 64)   0           concatenate_27[0][0]             \n",
      "__________________________________________________________________________________________________\n",
      "conv2d_130 (Conv2D)             (None, 32, 32, 32)   18464       dropout_55[0][0]                 \n",
      "__________________________________________________________________________________________________\n",
      "batch_normalization_124 (BatchN (None, 32, 32, 32)   128         conv2d_130[0][0]                 \n",
      "__________________________________________________________________________________________________\n",
      "activation_124 (Activation)     (None, 32, 32, 32)   0           batch_normalization_124[0][0]    \n",
      "__________________________________________________________________________________________________\n",
      "conv2d_transpose_28 (Conv2DTran (None, 64, 64, 16)   4624        activation_124[0][0]             \n",
      "__________________________________________________________________________________________________\n",
      "concatenate_28 (Concatenate)    (None, 64, 64, 32)   0           conv2d_transpose_28[0][0]        \n",
      "                                                                 activation_110[0][0]             \n",
      "__________________________________________________________________________________________________\n",
      "dropout_56 (Dropout)            (None, 64, 64, 32)   0           concatenate_28[0][0]             \n",
      "__________________________________________________________________________________________________\n",
      "conv2d_132 (Conv2D)             (None, 64, 64, 16)   4624        dropout_56[0][0]                 \n",
      "__________________________________________________________________________________________________\n",
      "batch_normalization_126 (BatchN (None, 64, 64, 16)   64          conv2d_132[0][0]                 \n",
      "__________________________________________________________________________________________________\n",
      "activation_126 (Activation)     (None, 64, 64, 16)   0           batch_normalization_126[0][0]    \n",
      "__________________________________________________________________________________________________\n",
      "conv2d_133 (Conv2D)             (None, 64, 64, 1)    17          activation_126[0][0]             \n",
      "==================================================================================================\n",
      "Total params: 1,179,265\n",
      "Trainable params: 1,177,793\n",
      "Non-trainable params: 1,472\n",
      "__________________________________________________________________________________________________\n"
     ]
    },
    {
     "name": "stdout",
     "output_type": "stream",
     "text": [
      "__________________________________________________________________________________________________\n",
      "Layer (type)                    Output Shape         Param #     Connected to                     \n",
      "==================================================================================================\n",
      "img (InputLayer)                (None, 64, 64, 2)    0                                            \n",
      "__________________________________________________________________________________________________\n",
      "conv2d_135 (Conv2D)             (None, 64, 64, 16)   304         img[0][0]                        \n",
      "__________________________________________________________________________________________________\n",
      "batch_normalization_128 (BatchN (None, 64, 64, 16)   64          conv2d_135[0][0]                 \n",
      "__________________________________________________________________________________________________\n",
      "activation_128 (Activation)     (None, 64, 64, 16)   0           batch_normalization_128[0][0]    \n",
      "__________________________________________________________________________________________________\n",
      "max_pooling2d_29 (MaxPooling2D) (None, 32, 32, 16)   0           activation_128[0][0]             \n",
      "__________________________________________________________________________________________________\n",
      "dropout_57 (Dropout)            (None, 32, 32, 16)   0           max_pooling2d_29[0][0]           \n",
      "__________________________________________________________________________________________________\n",
      "conv2d_137 (Conv2D)             (None, 32, 32, 32)   4640        dropout_57[0][0]                 \n",
      "__________________________________________________________________________________________________\n",
      "batch_normalization_130 (BatchN (None, 32, 32, 32)   128         conv2d_137[0][0]                 \n",
      "__________________________________________________________________________________________________\n",
      "activation_130 (Activation)     (None, 32, 32, 32)   0           batch_normalization_130[0][0]    \n",
      "__________________________________________________________________________________________________\n",
      "max_pooling2d_30 (MaxPooling2D) (None, 16, 16, 32)   0           activation_130[0][0]             \n",
      "__________________________________________________________________________________________________\n",
      "dropout_58 (Dropout)            (None, 16, 16, 32)   0           max_pooling2d_30[0][0]           \n",
      "__________________________________________________________________________________________________\n",
      "conv2d_139 (Conv2D)             (None, 16, 16, 64)   18496       dropout_58[0][0]                 \n",
      "__________________________________________________________________________________________________\n",
      "batch_normalization_132 (BatchN (None, 16, 16, 64)   256         conv2d_139[0][0]                 \n",
      "__________________________________________________________________________________________________\n",
      "activation_132 (Activation)     (None, 16, 16, 64)   0           batch_normalization_132[0][0]    \n",
      "__________________________________________________________________________________________________\n",
      "max_pooling2d_31 (MaxPooling2D) (None, 8, 8, 64)     0           activation_132[0][0]             \n",
      "__________________________________________________________________________________________________\n",
      "dropout_59 (Dropout)            (None, 8, 8, 64)     0           max_pooling2d_31[0][0]           \n",
      "__________________________________________________________________________________________________\n",
      "conv2d_141 (Conv2D)             (None, 8, 8, 128)    73856       dropout_59[0][0]                 \n",
      "__________________________________________________________________________________________________\n",
      "batch_normalization_134 (BatchN (None, 8, 8, 128)    512         conv2d_141[0][0]                 \n",
      "__________________________________________________________________________________________________\n",
      "activation_134 (Activation)     (None, 8, 8, 128)    0           batch_normalization_134[0][0]    \n",
      "__________________________________________________________________________________________________\n",
      "max_pooling2d_32 (MaxPooling2D) (None, 4, 4, 128)    0           activation_134[0][0]             \n",
      "__________________________________________________________________________________________________\n",
      "dropout_60 (Dropout)            (None, 4, 4, 128)    0           max_pooling2d_32[0][0]           \n",
      "__________________________________________________________________________________________________\n",
      "conv2d_143 (Conv2D)             (None, 4, 4, 256)    295168      dropout_60[0][0]                 \n",
      "__________________________________________________________________________________________________\n",
      "batch_normalization_136 (BatchN (None, 4, 4, 256)    1024        conv2d_143[0][0]                 \n",
      "__________________________________________________________________________________________________\n",
      "activation_136 (Activation)     (None, 4, 4, 256)    0           batch_normalization_136[0][0]    \n",
      "__________________________________________________________________________________________________\n",
      "conv2d_transpose_29 (Conv2DTran (None, 8, 8, 128)    295040      activation_136[0][0]             \n",
      "__________________________________________________________________________________________________\n",
      "concatenate_29 (Concatenate)    (None, 8, 8, 256)    0           conv2d_transpose_29[0][0]        \n",
      "                                                                 activation_134[0][0]             \n",
      "__________________________________________________________________________________________________\n",
      "dropout_61 (Dropout)            (None, 8, 8, 256)    0           concatenate_29[0][0]             \n",
      "__________________________________________________________________________________________________\n",
      "conv2d_145 (Conv2D)             (None, 8, 8, 128)    295040      dropout_61[0][0]                 \n",
      "__________________________________________________________________________________________________\n",
      "batch_normalization_138 (BatchN (None, 8, 8, 128)    512         conv2d_145[0][0]                 \n",
      "__________________________________________________________________________________________________\n",
      "activation_138 (Activation)     (None, 8, 8, 128)    0           batch_normalization_138[0][0]    \n",
      "__________________________________________________________________________________________________\n",
      "conv2d_transpose_30 (Conv2DTran (None, 16, 16, 64)   73792       activation_138[0][0]             \n",
      "__________________________________________________________________________________________________\n",
      "concatenate_30 (Concatenate)    (None, 16, 16, 128)  0           conv2d_transpose_30[0][0]        \n",
      "                                                                 activation_132[0][0]             \n",
      "__________________________________________________________________________________________________\n",
      "dropout_62 (Dropout)            (None, 16, 16, 128)  0           concatenate_30[0][0]             \n",
      "__________________________________________________________________________________________________\n",
      "conv2d_147 (Conv2D)             (None, 16, 16, 64)   73792       dropout_62[0][0]                 \n",
      "__________________________________________________________________________________________________\n",
      "batch_normalization_140 (BatchN (None, 16, 16, 64)   256         conv2d_147[0][0]                 \n",
      "__________________________________________________________________________________________________\n",
      "activation_140 (Activation)     (None, 16, 16, 64)   0           batch_normalization_140[0][0]    \n",
      "__________________________________________________________________________________________________\n",
      "conv2d_transpose_31 (Conv2DTran (None, 32, 32, 32)   18464       activation_140[0][0]             \n",
      "__________________________________________________________________________________________________\n",
      "concatenate_31 (Concatenate)    (None, 32, 32, 64)   0           conv2d_transpose_31[0][0]        \n",
      "                                                                 activation_130[0][0]             \n",
      "__________________________________________________________________________________________________\n",
      "dropout_63 (Dropout)            (None, 32, 32, 64)   0           concatenate_31[0][0]             \n",
      "__________________________________________________________________________________________________\n",
      "conv2d_149 (Conv2D)             (None, 32, 32, 32)   18464       dropout_63[0][0]                 \n",
      "__________________________________________________________________________________________________\n",
      "batch_normalization_142 (BatchN (None, 32, 32, 32)   128         conv2d_149[0][0]                 \n",
      "__________________________________________________________________________________________________\n",
      "activation_142 (Activation)     (None, 32, 32, 32)   0           batch_normalization_142[0][0]    \n",
      "__________________________________________________________________________________________________\n",
      "conv2d_transpose_32 (Conv2DTran (None, 64, 64, 16)   4624        activation_142[0][0]             \n",
      "__________________________________________________________________________________________________\n",
      "concatenate_32 (Concatenate)    (None, 64, 64, 32)   0           conv2d_transpose_32[0][0]        \n",
      "                                                                 activation_128[0][0]             \n",
      "__________________________________________________________________________________________________\n",
      "dropout_64 (Dropout)            (None, 64, 64, 32)   0           concatenate_32[0][0]             \n",
      "__________________________________________________________________________________________________\n",
      "conv2d_151 (Conv2D)             (None, 64, 64, 16)   4624        dropout_64[0][0]                 \n",
      "__________________________________________________________________________________________________\n",
      "batch_normalization_144 (BatchN (None, 64, 64, 16)   64          conv2d_151[0][0]                 \n",
      "__________________________________________________________________________________________________\n",
      "activation_144 (Activation)     (None, 64, 64, 16)   0           batch_normalization_144[0][0]    \n",
      "__________________________________________________________________________________________________\n",
      "conv2d_152 (Conv2D)             (None, 64, 64, 1)    17          activation_144[0][0]             \n",
      "==================================================================================================\n",
      "Total params: 1,179,265\n",
      "Trainable params: 1,177,793\n",
      "Non-trainable params: 1,472\n",
      "__________________________________________________________________________________________________\n"
     ]
    }
   ],
   "source": [
    "input_img = Input((IMG_SIDE, IMG_SIDE, 2), name='img')\n",
    "\n",
    "model_simple = get_unet(input_img, n_filters=16, dropout=0.05, batchnorm=True)\n",
    "model_simple.compile(optimizer=Adam(), loss=dice_loss, metrics=['accuracy', dice_coef])\n",
    "model_simple.summary()\n",
    "\n",
    "model_aug = get_unet(input_img, n_filters=16, dropout=0.05, batchnorm=True)\n",
    "model_aug.compile(optimizer=Adam(), loss=dice_loss, metrics=['accuracy', dice_coef])\n",
    "model_aug.summary()"
   ]
  },
  {
   "cell_type": "markdown",
   "metadata": {},
   "source": [
    "Callbacks:"
   ]
  },
  {
   "cell_type": "code",
   "execution_count": 443,
   "metadata": {},
   "outputs": [],
   "source": [
    "callbacks_simple = [\n",
    "    ReduceLROnPlateau(factor=0.1, patience=3, min_lr=0.00001, verbose=1),\n",
    "    ModelCheckpoint('../res/plaq-u-net_simple_dce_1.h5', verbose=1, save_best_only=True, save_weights_only=True)\n",
    "]\n",
    "\n",
    "callbacks_aug = [\n",
    "    ReduceLROnPlateau(factor=0.1, patience=3, min_lr=0.00001, verbose=1),\n",
    "    ModelCheckpoint('../res/plaq-u-net_aug_dce_1.h5', verbose=1, save_best_only=True, save_weights_only=True)\n",
    "]"
   ]
  },
  {
   "cell_type": "markdown",
   "metadata": {},
   "source": [
    "## 4. Model training with and without augmentation"
   ]
  },
  {
   "cell_type": "markdown",
   "metadata": {},
   "source": [
    "Models training (with and w/o augmentation):"
   ]
  },
  {
   "cell_type": "code",
   "execution_count": 445,
   "metadata": {},
   "outputs": [
    {
     "name": "stdout",
     "output_type": "stream",
     "text": [
      "Train on 7695 samples, validate on 1695 samples\n",
      "Epoch 1/100\n",
      "7695/7695 [==============================] - 16s 2ms/step - loss: 0.6441 - acc: 0.9257 - dice_coef: 0.3559 - val_loss: 0.5674 - val_acc: 0.9829 - val_dice_coef: 0.4326\n",
      "\n",
      "Epoch 00001: val_loss improved from inf to 0.56737, saving model to ../res/plaq-u-net_simple_dce_1.h5\n",
      "Epoch 2/100\n",
      "7695/7695 [==============================] - 6s 787us/step - loss: 0.4057 - acc: 0.9906 - dice_coef: 0.5943 - val_loss: 0.2920 - val_acc: 0.9884 - val_dice_coef: 0.7080\n",
      "\n",
      "Epoch 00002: val_loss improved from 0.56737 to 0.29203, saving model to ../res/plaq-u-net_simple_dce_1.h5\n",
      "Epoch 3/100\n",
      "7695/7695 [==============================] - 6s 793us/step - loss: 0.1992 - acc: 0.9928 - dice_coef: 0.8008 - val_loss: 0.1572 - val_acc: 0.9886 - val_dice_coef: 0.8428\n",
      "\n",
      "Epoch 00003: val_loss improved from 0.29203 to 0.15723, saving model to ../res/plaq-u-net_simple_dce_1.h5\n",
      "Epoch 4/100\n",
      "7695/7695 [==============================] - 7s 868us/step - loss: 0.1109 - acc: 0.9933 - dice_coef: 0.8891 - val_loss: 0.1134 - val_acc: 0.9894 - val_dice_coef: 0.8866\n",
      "\n",
      "Epoch 00004: val_loss improved from 0.15723 to 0.11342, saving model to ../res/plaq-u-net_simple_dce_1.h5\n",
      "Epoch 5/100\n",
      "7695/7695 [==============================] - 7s 845us/step - loss: 0.0743 - acc: 0.9937 - dice_coef: 0.9257 - val_loss: 0.0932 - val_acc: 0.9897 - val_dice_coef: 0.9068\n",
      "\n",
      "Epoch 00005: val_loss improved from 0.11342 to 0.09316, saving model to ../res/plaq-u-net_simple_dce_1.h5\n",
      "Epoch 6/100\n",
      "7695/7695 [==============================] - 7s 857us/step - loss: 0.0628 - acc: 0.9937 - dice_coef: 0.9372 - val_loss: 0.0827 - val_acc: 0.9899 - val_dice_coef: 0.9173\n",
      "\n",
      "Epoch 00006: val_loss improved from 0.09316 to 0.08268, saving model to ../res/plaq-u-net_simple_dce_1.h5\n",
      "Epoch 7/100\n",
      "7695/7695 [==============================] - 7s 851us/step - loss: 0.0559 - acc: 0.9938 - dice_coef: 0.9441 - val_loss: 0.0845 - val_acc: 0.9892 - val_dice_coef: 0.9155\n",
      "\n",
      "Epoch 00007: val_loss did not improve from 0.08268\n",
      "Epoch 8/100\n",
      "7695/7695 [==============================] - 7s 852us/step - loss: 0.0519 - acc: 0.9939 - dice_coef: 0.9481 - val_loss: 0.0793 - val_acc: 0.9897 - val_dice_coef: 0.9207\n",
      "\n",
      "Epoch 00008: val_loss improved from 0.08268 to 0.07927, saving model to ../res/plaq-u-net_simple_dce_1.h5\n",
      "Epoch 9/100\n",
      "7695/7695 [==============================] - 7s 873us/step - loss: 0.0490 - acc: 0.9940 - dice_coef: 0.9510 - val_loss: 0.0861 - val_acc: 0.9885 - val_dice_coef: 0.9139\n",
      "\n",
      "Epoch 00009: val_loss did not improve from 0.07927\n",
      "Epoch 10/100\n",
      "7695/7695 [==============================] - 7s 849us/step - loss: 0.0464 - acc: 0.9941 - dice_coef: 0.9536 - val_loss: 0.0747 - val_acc: 0.9899 - val_dice_coef: 0.9253\n",
      "\n",
      "Epoch 00010: val_loss improved from 0.07927 to 0.07465, saving model to ../res/plaq-u-net_simple_dce_1.h5\n",
      "Epoch 11/100\n",
      "7695/7695 [==============================] - 7s 850us/step - loss: 0.0449 - acc: 0.9942 - dice_coef: 0.9551 - val_loss: 0.0753 - val_acc: 0.9898 - val_dice_coef: 0.9247\n",
      "\n",
      "Epoch 00011: val_loss did not improve from 0.07465\n",
      "Epoch 12/100\n",
      "7695/7695 [==============================] - 6s 836us/step - loss: 0.0435 - acc: 0.9943 - dice_coef: 0.9565 - val_loss: 0.0806 - val_acc: 0.9888 - val_dice_coef: 0.9194\n",
      "\n",
      "Epoch 00012: val_loss did not improve from 0.07465\n",
      "Epoch 13/100\n",
      "7695/7695 [==============================] - 6s 834us/step - loss: 0.0435 - acc: 0.9942 - dice_coef: 0.9565 - val_loss: 0.0795 - val_acc: 0.9891 - val_dice_coef: 0.9205\n",
      "\n",
      "Epoch 00013: ReduceLROnPlateau reducing learning rate to 0.00010000000474974513.\n",
      "\n",
      "Epoch 00013: val_loss did not improve from 0.07465\n",
      "Epoch 14/100\n",
      "7695/7695 [==============================] - 7s 846us/step - loss: 0.0408 - acc: 0.9945 - dice_coef: 0.9592 - val_loss: 0.0741 - val_acc: 0.9896 - val_dice_coef: 0.9259\n",
      "\n",
      "Epoch 00014: val_loss improved from 0.07465 to 0.07413, saving model to ../res/plaq-u-net_simple_dce_1.h5\n",
      "Epoch 15/100\n",
      "7695/7695 [==============================] - 6s 836us/step - loss: 0.0399 - acc: 0.9946 - dice_coef: 0.9601 - val_loss: 0.0744 - val_acc: 0.9896 - val_dice_coef: 0.9256400 - acc: 0.9946 - dice_coe\n",
      "\n",
      "Epoch 00015: val_loss did not improve from 0.07413\n",
      "Epoch 16/100\n",
      "7695/7695 [==============================] - 6s 836us/step - loss: 0.0398 - acc: 0.9947 - dice_coef: 0.9602 - val_loss: 0.0744 - val_acc: 0.9896 - val_dice_coef: 0.9256\n",
      "\n",
      "Epoch 00016: val_loss did not improve from 0.07413\n",
      "Epoch 17/100\n",
      "7695/7695 [==============================] - 6s 844us/step - loss: 0.0395 - acc: 0.9947 - dice_coef: 0.9605 - val_loss: 0.0744 - val_acc: 0.9895 - val_dice_coef: 0.9256\n",
      "\n",
      "Epoch 00017: ReduceLROnPlateau reducing learning rate to 1.0000000474974514e-05.\n",
      "\n",
      "Epoch 00017: val_loss did not improve from 0.07413\n",
      "Epoch 18/100\n",
      "7695/7695 [==============================] - 7s 854us/step - loss: 0.0390 - acc: 0.9948 - dice_coef: 0.9610 - val_loss: 0.0744 - val_acc: 0.9895 - val_dice_coef: 0.9256\n",
      "\n",
      "Epoch 00018: val_loss did not improve from 0.07413\n",
      "Epoch 19/100\n",
      "7695/7695 [==============================] - 7s 853us/step - loss: 0.0389 - acc: 0.9948 - dice_coef: 0.9611 - val_loss: 0.0745 - val_acc: 0.9895 - val_dice_coef: 0.9255\n",
      "\n",
      "Epoch 00019: val_loss did not improve from 0.07413\n",
      "Epoch 20/100\n",
      "7695/7695 [==============================] - 6s 831us/step - loss: 0.0388 - acc: 0.9948 - dice_coef: 0.9612 - val_loss: 0.0745 - val_acc: 0.9895 - val_dice_coef: 0.9255\n",
      "\n",
      "Epoch 00020: ReduceLROnPlateau reducing learning rate to 1e-05.\n",
      "\n",
      "Epoch 00020: val_loss did not improve from 0.07413\n",
      "Epoch 21/100\n",
      "7695/7695 [==============================] - 6s 843us/step - loss: 0.0390 - acc: 0.9948 - dice_coef: 0.9610 - val_loss: 0.0745 - val_acc: 0.9895 - val_dice_coef: 0.9255\n",
      "\n",
      "Epoch 00021: val_loss did not improve from 0.07413\n",
      "Epoch 22/100\n",
      "7695/7695 [==============================] - 7s 887us/step - loss: 0.0391 - acc: 0.9948 - dice_coef: 0.9609 - val_loss: 0.0745 - val_acc: 0.9895 - val_dice_coef: 0.9255\n",
      "\n",
      "Epoch 00022: val_loss did not improve from 0.07413\n",
      "Epoch 23/100\n",
      "7695/7695 [==============================] - 6s 817us/step - loss: 0.0389 - acc: 0.9948 - dice_coef: 0.9611 - val_loss: 0.0745 - val_acc: 0.9895 - val_dice_coef: 0.9255\n",
      "\n",
      "Epoch 00023: val_loss did not improve from 0.07413\n",
      "Epoch 24/100\n",
      "7695/7695 [==============================] - 7s 855us/step - loss: 0.0388 - acc: 0.9948 - dice_coef: 0.9612 - val_loss: 0.0745 - val_acc: 0.9895 - val_dice_coef: 0.9255\n",
      "\n",
      "Epoch 00024: val_loss did not improve from 0.07413\n",
      "Epoch 25/100\n",
      "7695/7695 [==============================] - 6s 828us/step - loss: 0.0387 - acc: 0.9948 - dice_coef: 0.9613 - val_loss: 0.0745 - val_acc: 0.9895 - val_dice_coef: 0.9255\n",
      "\n",
      "Epoch 00025: val_loss did not improve from 0.07413\n",
      "Epoch 26/100\n",
      "7695/7695 [==============================] - 6s 837us/step - loss: 0.0391 - acc: 0.9948 - dice_coef: 0.9609 - val_loss: 0.0746 - val_acc: 0.9895 - val_dice_coef: 0.9254\n",
      "\n",
      "Epoch 00026: val_loss did not improve from 0.07413\n",
      "Epoch 27/100\n",
      "7695/7695 [==============================] - 7s 858us/step - loss: 0.0385 - acc: 0.9948 - dice_coef: 0.9615 - val_loss: 0.0746 - val_acc: 0.9895 - val_dice_coef: 0.9254\n",
      "\n",
      "Epoch 00027: val_loss did not improve from 0.07413\n",
      "Epoch 28/100\n",
      "7695/7695 [==============================] - 6s 804us/step - loss: 0.0387 - acc: 0.9948 - dice_coef: 0.9613 - val_loss: 0.0746 - val_acc: 0.9895 - val_dice_coef: 0.9254\n",
      "\n",
      "Epoch 00028: val_loss did not improve from 0.07413\n",
      "Epoch 29/100\n",
      "7695/7695 [==============================] - 6s 836us/step - loss: 0.0387 - acc: 0.9948 - dice_coef: 0.9613 - val_loss: 0.0745 - val_acc: 0.9895 - val_dice_coef: 0.9255\n",
      "\n",
      "Epoch 00029: val_loss did not improve from 0.07413\n",
      "Epoch 30/100\n",
      "7695/7695 [==============================] - 7s 846us/step - loss: 0.0385 - acc: 0.9948 - dice_coef: 0.9615 - val_loss: 0.0746 - val_acc: 0.9895 - val_dice_coef: 0.9254\n",
      "\n",
      "Epoch 00030: val_loss did not improve from 0.07413\n",
      "Epoch 31/100\n",
      "7695/7695 [==============================] - 7s 856us/step - loss: 0.0386 - acc: 0.9948 - dice_coef: 0.9614 - val_loss: 0.0746 - val_acc: 0.9895 - val_dice_coef: 0.9254\n",
      "\n",
      "Epoch 00031: val_loss did not improve from 0.07413\n",
      "Epoch 32/100\n"
     ]
    },
    {
     "name": "stdout",
     "output_type": "stream",
     "text": [
      "7695/7695 [==============================] - 7s 850us/step - loss: 0.0385 - acc: 0.9948 - dice_coef: 0.9615 - val_loss: 0.0745 - val_acc: 0.9895 - val_dice_coef: 0.9255\n",
      "\n",
      "Epoch 00032: val_loss did not improve from 0.07413\n",
      "Epoch 33/100\n",
      "7695/7695 [==============================] - 6s 837us/step - loss: 0.0386 - acc: 0.9948 - dice_coef: 0.9614 - val_loss: 0.0746 - val_acc: 0.9895 - val_dice_coef: 0.9254\n",
      "\n",
      "Epoch 00033: val_loss did not improve from 0.07413\n",
      "Epoch 34/100\n",
      "7695/7695 [==============================] - 7s 853us/step - loss: 0.0384 - acc: 0.9948 - dice_coef: 0.9616 - val_loss: 0.0745 - val_acc: 0.9895 - val_dice_coef: 0.9255\n",
      "\n",
      "Epoch 00034: val_loss did not improve from 0.07413\n",
      "Epoch 35/100\n",
      "7695/7695 [==============================] - 7s 893us/step - loss: 0.0386 - acc: 0.9948 - dice_coef: 0.9614 - val_loss: 0.0746 - val_acc: 0.9895 - val_dice_coef: 0.9254\n",
      "\n",
      "Epoch 00035: val_loss did not improve from 0.07413\n",
      "Epoch 36/100\n",
      "7695/7695 [==============================] - 7s 896us/step - loss: 0.0383 - acc: 0.9949 - dice_coef: 0.9617 - val_loss: 0.0746 - val_acc: 0.9895 - val_dice_coef: 0.9254\n",
      "\n",
      "Epoch 00036: val_loss did not improve from 0.07413\n",
      "Epoch 37/100\n",
      "7695/7695 [==============================] - 7s 869us/step - loss: 0.0384 - acc: 0.9949 - dice_coef: 0.9616 - val_loss: 0.0746 - val_acc: 0.9895 - val_dice_coef: 0.9254\n",
      "\n",
      "Epoch 00037: val_loss did not improve from 0.07413\n",
      "Epoch 38/100\n",
      "7695/7695 [==============================] - 6s 833us/step - loss: 0.0383 - acc: 0.9949 - dice_coef: 0.9617 - val_loss: 0.0746 - val_acc: 0.9895 - val_dice_coef: 0.9254\n",
      "\n",
      "Epoch 00038: val_loss did not improve from 0.07413\n",
      "Epoch 39/100\n",
      "7695/7695 [==============================] - 7s 861us/step - loss: 0.0383 - acc: 0.9949 - dice_coef: 0.9617 - val_loss: 0.0745 - val_acc: 0.9895 - val_dice_coef: 0.9255\n",
      "\n",
      "Epoch 00039: val_loss did not improve from 0.07413\n",
      "Epoch 40/100\n",
      "7695/7695 [==============================] - 6s 830us/step - loss: 0.0382 - acc: 0.9949 - dice_coef: 0.9618 - val_loss: 0.0746 - val_acc: 0.9895 - val_dice_coef: 0.9254\n",
      "\n",
      "Epoch 00040: val_loss did not improve from 0.07413\n",
      "Epoch 41/100\n",
      "7695/7695 [==============================] - 7s 867us/step - loss: 0.0384 - acc: 0.9949 - dice_coef: 0.9616 - val_loss: 0.0745 - val_acc: 0.9895 - val_dice_coef: 0.9255\n",
      "\n",
      "Epoch 00041: val_loss did not improve from 0.07413\n",
      "Epoch 42/100\n",
      "7695/7695 [==============================] - 7s 854us/step - loss: 0.0382 - acc: 0.9949 - dice_coef: 0.9618 - val_loss: 0.0745 - val_acc: 0.9895 - val_dice_coef: 0.9255\n",
      "\n",
      "Epoch 00042: val_loss did not improve from 0.07413\n",
      "Epoch 43/100\n",
      "7695/7695 [==============================] - 7s 850us/step - loss: 0.0382 - acc: 0.9949 - dice_coef: 0.9618 - val_loss: 0.0745 - val_acc: 0.9895 - val_dice_coef: 0.9255\n",
      "\n",
      "Epoch 00043: val_loss did not improve from 0.07413\n",
      "Epoch 44/100\n",
      "7695/7695 [==============================] - 7s 862us/step - loss: 0.0380 - acc: 0.9949 - dice_coef: 0.9620 - val_loss: 0.0745 - val_acc: 0.9895 - val_dice_coef: 0.9255\n",
      "\n",
      "Epoch 00044: val_loss did not improve from 0.07413\n",
      "Epoch 45/100\n",
      "7695/7695 [==============================] - 7s 875us/step - loss: 0.0379 - acc: 0.9949 - dice_coef: 0.9621 - val_loss: 0.0745 - val_acc: 0.9895 - val_dice_coef: 0.9255\n",
      "\n",
      "Epoch 00045: val_loss did not improve from 0.07413\n",
      "Epoch 46/100\n",
      "7695/7695 [==============================] - 7s 900us/step - loss: 0.0381 - acc: 0.9949 - dice_coef: 0.9619 - val_loss: 0.0746 - val_acc: 0.9895 - val_dice_coef: 0.9254\n",
      "\n",
      "Epoch 00046: val_loss did not improve from 0.07413\n",
      "Epoch 47/100\n",
      "7695/7695 [==============================] - 7s 860us/step - loss: 0.0380 - acc: 0.9949 - dice_coef: 0.9620 - val_loss: 0.0746 - val_acc: 0.9894 - val_dice_coef: 0.9254\n",
      "\n",
      "Epoch 00047: val_loss did not improve from 0.07413\n",
      "Epoch 48/100\n",
      "7695/7695 [==============================] - 6s 819us/step - loss: 0.0378 - acc: 0.9949 - dice_coef: 0.9622 - val_loss: 0.0746 - val_acc: 0.9894 - val_dice_coef: 0.9254\n",
      "\n",
      "Epoch 00048: val_loss did not improve from 0.07413\n",
      "Epoch 49/100\n",
      "7695/7695 [==============================] - 6s 836us/step - loss: 0.0379 - acc: 0.9949 - dice_coef: 0.9621 - val_loss: 0.0745 - val_acc: 0.9895 - val_dice_coef: 0.9255\n",
      "\n",
      "Epoch 00049: val_loss did not improve from 0.07413\n",
      "Epoch 50/100\n",
      "7695/7695 [==============================] - 6s 841us/step - loss: 0.0377 - acc: 0.9949 - dice_coef: 0.9623 - val_loss: 0.0745 - val_acc: 0.9895 - val_dice_coef: 0.9255\n",
      "\n",
      "Epoch 00050: val_loss did not improve from 0.07413\n",
      "Epoch 51/100\n",
      "7695/7695 [==============================] - 7s 864us/step - loss: 0.0377 - acc: 0.9949 - dice_coef: 0.9623 - val_loss: 0.0744 - val_acc: 0.9895 - val_dice_coef: 0.9256\n",
      "\n",
      "Epoch 00051: val_loss did not improve from 0.07413\n",
      "Epoch 52/100\n",
      "7695/7695 [==============================] - 7s 845us/step - loss: 0.0377 - acc: 0.9949 - dice_coef: 0.9623 - val_loss: 0.0744 - val_acc: 0.9895 - val_dice_coef: 0.9256\n",
      "\n",
      "Epoch 00052: val_loss did not improve from 0.07413\n",
      "Epoch 53/100\n",
      "7695/7695 [==============================] - 7s 858us/step - loss: 0.0376 - acc: 0.9949 - dice_coef: 0.9624 - val_loss: 0.0744 - val_acc: 0.9895 - val_dice_coef: 0.9256\n",
      "\n",
      "Epoch 00053: val_loss did not improve from 0.07413\n",
      "Epoch 54/100\n",
      "7695/7695 [==============================] - 7s 851us/step - loss: 0.0379 - acc: 0.9949 - dice_coef: 0.9621 - val_loss: 0.0744 - val_acc: 0.9894 - val_dice_coef: 0.92568 - acc: 0.9949 - d\n",
      "\n",
      "Epoch 00054: val_loss did not improve from 0.07413\n",
      "Epoch 55/100\n",
      "7695/7695 [==============================] - 7s 862us/step - loss: 0.0375 - acc: 0.9949 - dice_coef: 0.9625 - val_loss: 0.0745 - val_acc: 0.9894 - val_dice_coef: 0.9255\n",
      "\n",
      "Epoch 00055: val_loss did not improve from 0.07413\n",
      "Epoch 56/100\n",
      "7695/7695 [==============================] - 7s 863us/step - loss: 0.0376 - acc: 0.9949 - dice_coef: 0.9624 - val_loss: 0.0744 - val_acc: 0.9894 - val_dice_coef: 0.9256\n",
      "\n",
      "Epoch 00056: val_loss did not improve from 0.07413\n",
      "Epoch 57/100\n",
      "7695/7695 [==============================] - 7s 848us/step - loss: 0.0374 - acc: 0.9949 - dice_coef: 0.9626 - val_loss: 0.0744 - val_acc: 0.9894 - val_dice_coef: 0.9256\n",
      "\n",
      "Epoch 00057: val_loss did not improve from 0.07413\n",
      "Epoch 58/100\n",
      "7695/7695 [==============================] - 7s 862us/step - loss: 0.0373 - acc: 0.9949 - dice_coef: 0.9627 - val_loss: 0.0745 - val_acc: 0.9894 - val_dice_coef: 0.9255\n",
      "\n",
      "Epoch 00058: val_loss did not improve from 0.07413\n",
      "Epoch 59/100\n",
      "7695/7695 [==============================] - 7s 903us/step - loss: 0.0373 - acc: 0.9949 - dice_coef: 0.9627 - val_loss: 0.0744 - val_acc: 0.9894 - val_dice_coef: 0.9256\n",
      "\n",
      "Epoch 00059: val_loss did not improve from 0.07413\n",
      "Epoch 60/100\n",
      "7695/7695 [==============================] - 7s 874us/step - loss: 0.0374 - acc: 0.9949 - dice_coef: 0.9626 - val_loss: 0.0744 - val_acc: 0.9895 - val_dice_coef: 0.9256\n",
      "\n",
      "Epoch 00060: val_loss did not improve from 0.07413\n",
      "Epoch 61/100\n",
      "7695/7695 [==============================] - 7s 895us/step - loss: 0.0372 - acc: 0.9949 - dice_coef: 0.9628 - val_loss: 0.0744 - val_acc: 0.9894 - val_dice_coef: 0.9256\n",
      "\n",
      "Epoch 00061: val_loss did not improve from 0.07413\n",
      "Epoch 62/100\n",
      "7695/7695 [==============================] - 7s 879us/step - loss: 0.0371 - acc: 0.9949 - dice_coef: 0.9629 - val_loss: 0.0744 - val_acc: 0.9894 - val_dice_coef: 0.9256\n",
      "\n",
      "Epoch 00062: val_loss did not improve from 0.07413\n",
      "Epoch 63/100\n",
      "7695/7695 [==============================] - 7s 879us/step - loss: 0.0371 - acc: 0.9949 - dice_coef: 0.9629 - val_loss: 0.0744 - val_acc: 0.9894 - val_dice_coef: 0.9256\n",
      "\n",
      "Epoch 00063: val_loss did not improve from 0.07413\n",
      "Epoch 64/100\n",
      "7695/7695 [==============================] - 7s 859us/step - loss: 0.0374 - acc: 0.9949 - dice_coef: 0.9626 - val_loss: 0.0744 - val_acc: 0.9894 - val_dice_coef: 0.9256\n",
      "\n",
      "Epoch 00064: val_loss did not improve from 0.07413\n",
      "Epoch 65/100\n",
      "7695/7695 [==============================] - 6s 835us/step - loss: 0.0370 - acc: 0.9950 - dice_coef: 0.9630 - val_loss: 0.0742 - val_acc: 0.9894 - val_dice_coef: 0.9258\n",
      "\n",
      "Epoch 00065: val_loss did not improve from 0.07413\n",
      "Epoch 66/100\n",
      "7695/7695 [==============================] - 7s 865us/step - loss: 0.0371 - acc: 0.9949 - dice_coef: 0.9629 - val_loss: 0.0744 - val_acc: 0.9894 - val_dice_coef: 0.9256\n",
      "\n",
      "Epoch 00066: val_loss did not improve from 0.07413\n",
      "Epoch 67/100\n"
     ]
    },
    {
     "name": "stdout",
     "output_type": "stream",
     "text": [
      "7695/7695 [==============================] - 6s 827us/step - loss: 0.0370 - acc: 0.9950 - dice_coef: 0.9630 - val_loss: 0.0745 - val_acc: 0.9894 - val_dice_coef: 0.9255\n",
      "\n",
      "Epoch 00067: val_loss did not improve from 0.07413\n",
      "Epoch 68/100\n",
      "7695/7695 [==============================] - 6s 820us/step - loss: 0.0370 - acc: 0.9949 - dice_coef: 0.9630 - val_loss: 0.0743 - val_acc: 0.9894 - val_dice_coef: 0.9257\n",
      "\n",
      "Epoch 00068: val_loss did not improve from 0.07413\n",
      "Epoch 69/100\n",
      "7695/7695 [==============================] - 7s 901us/step - loss: 0.0370 - acc: 0.9949 - dice_coef: 0.9630 - val_loss: 0.0743 - val_acc: 0.9894 - val_dice_coef: 0.9257\n",
      "\n",
      "Epoch 00069: val_loss did not improve from 0.07413\n",
      "Epoch 70/100\n",
      "7695/7695 [==============================] - 7s 857us/step - loss: 0.0369 - acc: 0.9950 - dice_coef: 0.9631 - val_loss: 0.0743 - val_acc: 0.9894 - val_dice_coef: 0.9257\n",
      "\n",
      "Epoch 00070: val_loss did not improve from 0.07413\n",
      "Epoch 71/100\n",
      "7695/7695 [==============================] - 7s 877us/step - loss: 0.0367 - acc: 0.9950 - dice_coef: 0.9633 - val_loss: 0.0743 - val_acc: 0.9894 - val_dice_coef: 0.9257\n",
      "\n",
      "Epoch 00071: val_loss did not improve from 0.07413\n",
      "Epoch 72/100\n",
      "7695/7695 [==============================] - 7s 868us/step - loss: 0.0369 - acc: 0.9950 - dice_coef: 0.9631 - val_loss: 0.0743 - val_acc: 0.9894 - val_dice_coef: 0.9257\n",
      "\n",
      "Epoch 00072: val_loss did not improve from 0.07413\n",
      "Epoch 73/100\n",
      "7695/7695 [==============================] - 7s 846us/step - loss: 0.0369 - acc: 0.9950 - dice_coef: 0.9631 - val_loss: 0.0742 - val_acc: 0.9894 - val_dice_coef: 0.9258\n",
      "\n",
      "Epoch 00073: val_loss did not improve from 0.07413\n",
      "Epoch 74/100\n",
      "7695/7695 [==============================] - 7s 857us/step - loss: 0.0369 - acc: 0.9950 - dice_coef: 0.9631 - val_loss: 0.0742 - val_acc: 0.9894 - val_dice_coef: 0.9258\n",
      "\n",
      "Epoch 00074: val_loss did not improve from 0.07413\n",
      "Epoch 75/100\n",
      "7695/7695 [==============================] - 7s 868us/step - loss: 0.0368 - acc: 0.9950 - dice_coef: 0.9632 - val_loss: 0.0742 - val_acc: 0.9894 - val_dice_coef: 0.9258\n",
      "\n",
      "Epoch 00075: val_loss did not improve from 0.07413\n",
      "Epoch 76/100\n",
      "7695/7695 [==============================] - 7s 891us/step - loss: 0.0368 - acc: 0.9950 - dice_coef: 0.9632 - val_loss: 0.0742 - val_acc: 0.9894 - val_dice_coef: 0.9258\n",
      "\n",
      "Epoch 00076: val_loss did not improve from 0.07413\n",
      "Epoch 77/100\n",
      "7695/7695 [==============================] - 7s 868us/step - loss: 0.0367 - acc: 0.9950 - dice_coef: 0.9633 - val_loss: 0.0741 - val_acc: 0.9894 - val_dice_coef: 0.9259\n",
      "\n",
      "Epoch 00077: val_loss improved from 0.07413 to 0.07405, saving model to ../res/plaq-u-net_simple_dce_1.h5\n",
      "Epoch 78/100\n",
      "7695/7695 [==============================] - 7s 862us/step - loss: 0.0366 - acc: 0.9950 - dice_coef: 0.9634 - val_loss: 0.0741 - val_acc: 0.9894 - val_dice_coef: 0.9259\n",
      "\n",
      "Epoch 00078: val_loss did not improve from 0.07405\n",
      "Epoch 79/100\n",
      "7695/7695 [==============================] - 7s 862us/step - loss: 0.0363 - acc: 0.9950 - dice_coef: 0.9637 - val_loss: 0.0741 - val_acc: 0.9894 - val_dice_coef: 0.9259\n",
      "\n",
      "Epoch 00079: val_loss did not improve from 0.07405\n",
      "Epoch 80/100\n",
      "7695/7695 [==============================] - 6s 844us/step - loss: 0.0364 - acc: 0.9950 - dice_coef: 0.9636 - val_loss: 0.0741 - val_acc: 0.9894 - val_dice_coef: 0.9259\n",
      "\n",
      "Epoch 00080: val_loss did not improve from 0.07405\n",
      "Epoch 81/100\n",
      "7695/7695 [==============================] - 7s 873us/step - loss: 0.0364 - acc: 0.9950 - dice_coef: 0.9636 - val_loss: 0.0742 - val_acc: 0.9894 - val_dice_coef: 0.9258\n",
      "\n",
      "Epoch 00081: val_loss did not improve from 0.07405\n",
      "Epoch 82/100\n",
      "7695/7695 [==============================] - 7s 867us/step - loss: 0.0366 - acc: 0.9950 - dice_coef: 0.9634 - val_loss: 0.0741 - val_acc: 0.9894 - val_dice_coef: 0.9259\n",
      "\n",
      "Epoch 00082: val_loss did not improve from 0.07405\n",
      "Epoch 83/100\n",
      "7695/7695 [==============================] - 6s 837us/step - loss: 0.0362 - acc: 0.9950 - dice_coef: 0.9638 - val_loss: 0.0741 - val_acc: 0.9894 - val_dice_coef: 0.9259\n",
      "\n",
      "Epoch 00083: val_loss did not improve from 0.07405\n",
      "Epoch 84/100\n",
      "7695/7695 [==============================] - 7s 880us/step - loss: 0.0362 - acc: 0.9950 - dice_coef: 0.9638 - val_loss: 0.0742 - val_acc: 0.9894 - val_dice_coef: 0.9258\n",
      "\n",
      "Epoch 00084: val_loss did not improve from 0.07405\n",
      "Epoch 85/100\n",
      "7695/7695 [==============================] - 7s 883us/step - loss: 0.0362 - acc: 0.9950 - dice_coef: 0.9638 - val_loss: 0.0742 - val_acc: 0.9894 - val_dice_coef: 0.9258\n",
      "\n",
      "Epoch 00085: val_loss did not improve from 0.07405\n",
      "Epoch 86/100\n",
      "7695/7695 [==============================] - 7s 892us/step - loss: 0.0365 - acc: 0.9950 - dice_coef: 0.9635 - val_loss: 0.0741 - val_acc: 0.9894 - val_dice_coef: 0.9259\n",
      "\n",
      "Epoch 00086: val_loss did not improve from 0.07405\n",
      "Epoch 87/100\n",
      "7695/7695 [==============================] - 7s 865us/step - loss: 0.0361 - acc: 0.9950 - dice_coef: 0.9639 - val_loss: 0.0742 - val_acc: 0.9894 - val_dice_coef: 0.9258\n",
      "\n",
      "Epoch 00087: val_loss did not improve from 0.07405\n",
      "Epoch 88/100\n",
      "7695/7695 [==============================] - 7s 885us/step - loss: 0.0362 - acc: 0.9950 - dice_coef: 0.9638 - val_loss: 0.0740 - val_acc: 0.9894 - val_dice_coef: 0.9260\n",
      "\n",
      "Epoch 00088: val_loss improved from 0.07405 to 0.07397, saving model to ../res/plaq-u-net_simple_dce_1.h5\n",
      "Epoch 89/100\n",
      "7695/7695 [==============================] - 7s 881us/step - loss: 0.0362 - acc: 0.9950 - dice_coef: 0.9638 - val_loss: 0.0741 - val_acc: 0.9894 - val_dice_coef: 0.9259\n",
      "\n",
      "Epoch 00089: val_loss did not improve from 0.07397\n",
      "Epoch 90/100\n",
      "7695/7695 [==============================] - 7s 870us/step - loss: 0.0361 - acc: 0.9950 - dice_coef: 0.9639 - val_loss: 0.0740 - val_acc: 0.9894 - val_dice_coef: 0.9260\n",
      "\n",
      "Epoch 00090: val_loss did not improve from 0.07397\n",
      "Epoch 91/100\n",
      "7695/7695 [==============================] - 7s 848us/step - loss: 0.0361 - acc: 0.9950 - dice_coef: 0.9639 - val_loss: 0.0740 - val_acc: 0.9894 - val_dice_coef: 0.9260\n",
      "\n",
      "Epoch 00091: val_loss did not improve from 0.07397\n",
      "Epoch 92/100\n",
      "7695/7695 [==============================] - 7s 867us/step - loss: 0.0360 - acc: 0.9950 - dice_coef: 0.9640 - val_loss: 0.0740 - val_acc: 0.9894 - val_dice_coef: 0.9260\n",
      "\n",
      "Epoch 00092: val_loss improved from 0.07397 to 0.07395, saving model to ../res/plaq-u-net_simple_dce_1.h5\n",
      "Epoch 93/100\n",
      "7695/7695 [==============================] - 7s 899us/step - loss: 0.0361 - acc: 0.9950 - dice_coef: 0.9639 - val_loss: 0.0740 - val_acc: 0.9894 - val_dice_coef: 0.9260\n",
      "\n",
      "Epoch 00093: val_loss did not improve from 0.07395\n",
      "Epoch 94/100\n",
      "7695/7695 [==============================] - 7s 849us/step - loss: 0.0360 - acc: 0.9950 - dice_coef: 0.9640 - val_loss: 0.0740 - val_acc: 0.9894 - val_dice_coef: 0.9260\n",
      "\n",
      "Epoch 00094: val_loss did not improve from 0.07395\n",
      "Epoch 95/100\n",
      "7695/7695 [==============================] - 7s 897us/step - loss: 0.0358 - acc: 0.9950 - dice_coef: 0.9642 - val_loss: 0.0740 - val_acc: 0.9894 - val_dice_coef: 0.9260\n",
      "\n",
      "Epoch 00095: val_loss did not improve from 0.07395\n",
      "Epoch 96/100\n",
      "7695/7695 [==============================] - 7s 869us/step - loss: 0.0357 - acc: 0.9951 - dice_coef: 0.9643 - val_loss: 0.0740 - val_acc: 0.9894 - val_dice_coef: 0.9260\n",
      "\n",
      "Epoch 00096: val_loss did not improve from 0.07395\n",
      "Epoch 97/100\n",
      "7695/7695 [==============================] - 7s 856us/step - loss: 0.0358 - acc: 0.9950 - dice_coef: 0.9642 - val_loss: 0.0740 - val_acc: 0.9894 - val_dice_coef: 0.9260\n",
      "\n",
      "Epoch 00097: val_loss did not improve from 0.07395\n",
      "Epoch 98/100\n",
      "7695/7695 [==============================] - 7s 900us/step - loss: 0.0355 - acc: 0.9951 - dice_coef: 0.9645 - val_loss: 0.0740 - val_acc: 0.9894 - val_dice_coef: 0.9260\n",
      "\n",
      "Epoch 00098: val_loss did not improve from 0.07395\n",
      "Epoch 99/100\n",
      "7695/7695 [==============================] - 7s 900us/step - loss: 0.0355 - acc: 0.9951 - dice_coef: 0.9645 - val_loss: 0.0739 - val_acc: 0.9894 - val_dice_coef: 0.9261\n",
      "\n",
      "Epoch 00099: val_loss improved from 0.07395 to 0.07394, saving model to ../res/plaq-u-net_simple_dce_1.h5\n",
      "Epoch 100/100\n",
      "7695/7695 [==============================] - 7s 910us/step - loss: 0.0360 - acc: 0.9950 - dice_coef: 0.9640 - val_loss: 0.0738 - val_acc: 0.9894 - val_dice_coef: 0.9262\n",
      "\n",
      "Epoch 00100: val_loss improved from 0.07394 to 0.07384, saving model to ../res/plaq-u-net_simple_dce_1.h5\n"
     ]
    }
   ],
   "source": [
    "# simple model (w/o data augmentation)\n",
    "\n",
    "results_simple = model_simple.fit(X_train, y_train,\n",
    "                                  batch_size=64, epochs=100, \n",
    "                                  callbacks=callbacks_simple, \n",
    "                                  validation_data=(X_valid, y_valid))"
   ]
  },
  {
   "cell_type": "code",
   "execution_count": 446,
   "metadata": {},
   "outputs": [
    {
     "name": "stdout",
     "output_type": "stream",
     "text": [
      "Train on 76950 samples, validate on 16950 samples\n",
      "Epoch 1/100\n",
      "76950/76950 [==============================] - 75s 980us/step - loss: 0.1240 - acc: 0.9899 - dice_coef: 0.8760 - val_loss: 0.1093 - val_acc: 0.9862 - val_dice_coef: 0.8907\n",
      "\n",
      "Epoch 00001: val_loss improved from inf to 0.10925, saving model to ../res/plaq-u-net_aug_dce_1.h5\n",
      "Epoch 2/100\n",
      "76950/76950 [==============================] - 66s 856us/step - loss: 0.0573 - acc: 0.9914 - dice_coef: 0.9427 - val_loss: 0.1021 - val_acc: 0.9870 - val_dice_coef: 0.8979\n",
      "\n",
      "Epoch 00002: val_loss improved from 0.10925 to 0.10209, saving model to ../res/plaq-u-net_aug_dce_1.h5\n",
      "Epoch 3/100\n",
      "76950/76950 [==============================] - 68s 880us/step - loss: 0.0546 - acc: 0.9917 - dice_coef: 0.9454 - val_loss: 0.1014 - val_acc: 0.9868 - val_dice_coef: 0.8986\n",
      "\n",
      "Epoch 00003: val_loss improved from 0.10209 to 0.10137, saving model to ../res/plaq-u-net_aug_dce_1.h5\n",
      "Epoch 4/100\n",
      "76950/76950 [==============================] - 67s 865us/step - loss: 0.0530 - acc: 0.9918 - dice_coef: 0.9470 - val_loss: 0.1002 - val_acc: 0.9870 - val_dice_coef: 0.8998\n",
      "\n",
      "Epoch 00004: val_loss improved from 0.10137 to 0.10018, saving model to ../res/plaq-u-net_aug_dce_1.h5\n",
      "Epoch 5/100\n",
      "76950/76950 [==============================] - 66s 864us/step - loss: 0.0521 - acc: 0.9920 - dice_coef: 0.9479 - val_loss: 0.1044 - val_acc: 0.9867 - val_dice_coef: 0.8956\n",
      "\n",
      "Epoch 00005: val_loss did not improve from 0.10018\n",
      "Epoch 6/100\n",
      "76950/76950 [==============================] - 67s 874us/step - loss: 0.0512 - acc: 0.9921 - dice_coef: 0.9488 - val_loss: 0.1004 - val_acc: 0.9870 - val_dice_coef: 0.8996\n",
      "\n",
      "Epoch 00006: val_loss did not improve from 0.10018\n",
      "Epoch 7/100\n",
      "76950/76950 [==============================] - 66s 859us/step - loss: 0.0506 - acc: 0.9922 - dice_coef: 0.9494 - val_loss: 0.1031 - val_acc: 0.9870 - val_dice_coef: 0.8969\n",
      "\n",
      "Epoch 00007: ReduceLROnPlateau reducing learning rate to 0.00010000000474974513.\n",
      "\n",
      "Epoch 00007: val_loss did not improve from 0.10018\n",
      "Epoch 8/100\n",
      "76950/76950 [==============================] - 68s 887us/step - loss: 0.0486 - acc: 0.9925 - dice_coef: 0.9514 - val_loss: 0.0982 - val_acc: 0.9872 - val_dice_coef: 0.9018\n",
      "\n",
      "Epoch 00008: val_loss improved from 0.10018 to 0.09816, saving model to ../res/plaq-u-net_aug_dce_1.h5\n",
      "Epoch 9/100\n",
      "76950/76950 [==============================] - 67s 869us/step - loss: 0.0481 - acc: 0.9926 - dice_coef: 0.9519 - val_loss: 0.0983 - val_acc: 0.9872 - val_dice_coef: 0.9017\n",
      "\n",
      "Epoch 00009: val_loss did not improve from 0.09816\n",
      "Epoch 10/100\n",
      "76950/76950 [==============================] - 66s 860us/step - loss: 0.0478 - acc: 0.9926 - dice_coef: 0.9522 - val_loss: 0.0964 - val_acc: 0.9873 - val_dice_coef: 0.9036\n",
      "\n",
      "Epoch 00010: val_loss improved from 0.09816 to 0.09641, saving model to ../res/plaq-u-net_aug_dce_1.h5\n",
      "Epoch 11/100\n",
      "76950/76950 [==============================] - 68s 882us/step - loss: 0.0474 - acc: 0.9927 - dice_coef: 0.9526 - val_loss: 0.0964 - val_acc: 0.9873 - val_dice_coef: 0.9036\n",
      "\n",
      "Epoch 00011: val_loss did not improve from 0.09641\n",
      "Epoch 12/100\n",
      "76950/76950 [==============================] - 67s 866us/step - loss: 0.0472 - acc: 0.9927 - dice_coef: 0.9528 - val_loss: 0.0965 - val_acc: 0.9873 - val_dice_coef: 0.9035\n",
      "\n",
      "Epoch 00012: val_loss did not improve from 0.09641\n",
      "Epoch 13/100\n",
      "76950/76950 [==============================] - 67s 872us/step - loss: 0.0470 - acc: 0.9927 - dice_coef: 0.9530 - val_loss: 0.0958 - val_acc: 0.9873 - val_dice_coef: 0.9042\n",
      "\n",
      "Epoch 00013: val_loss improved from 0.09641 to 0.09579, saving model to ../res/plaq-u-net_aug_dce_1.h5\n",
      "Epoch 14/100\n",
      "76950/76950 [==============================] - 67s 874us/step - loss: 0.0467 - acc: 0.9928 - dice_coef: 0.9533 - val_loss: 0.0969 - val_acc: 0.9873 - val_dice_coef: 0.9031\n",
      "\n",
      "Epoch 00014: val_loss did not improve from 0.09579\n",
      "Epoch 15/100\n",
      "76950/76950 [==============================] - 66s 864us/step - loss: 0.0465 - acc: 0.9928 - dice_coef: 0.9535 - val_loss: 0.0954 - val_acc: 0.9873 - val_dice_coef: 0.9046\n",
      "\n",
      "Epoch 00015: val_loss improved from 0.09579 to 0.09537, saving model to ../res/plaq-u-net_aug_dce_1.h5\n",
      "Epoch 16/100\n",
      "76950/76950 [==============================] - 68s 882us/step - loss: 0.0463 - acc: 0.9928 - dice_coef: 0.9537 - val_loss: 0.0960 - val_acc: 0.9873 - val_dice_coef: 0.9040\n",
      "\n",
      "Epoch 00016: val_loss did not improve from 0.09537\n",
      "Epoch 17/100\n",
      "76950/76950 [==============================] - 66s 862us/step - loss: 0.0460 - acc: 0.9929 - dice_coef: 0.9540 - val_loss: 0.0971 - val_acc: 0.9872 - val_dice_coef: 0.9029\n",
      "\n",
      "Epoch 00017: val_loss did not improve from 0.09537\n",
      "Epoch 18/100\n",
      "76950/76950 [==============================] - 66s 861us/step - loss: 0.0457 - acc: 0.9929 - dice_coef: 0.9543 - val_loss: 0.0961 - val_acc: 0.9872 - val_dice_coef: 0.9039\n",
      "\n",
      "Epoch 00018: ReduceLROnPlateau reducing learning rate to 1.0000000474974514e-05.\n",
      "\n",
      "Epoch 00018: val_loss did not improve from 0.09537\n",
      "Epoch 19/100\n",
      "76950/76950 [==============================] - 68s 885us/step - loss: 0.0454 - acc: 0.9930 - dice_coef: 0.9546 - val_loss: 0.0964 - val_acc: 0.9873 - val_dice_coef: 0.9036\n",
      "\n",
      "Epoch 00019: val_loss did not improve from 0.09537\n",
      "Epoch 20/100\n",
      "76950/76950 [==============================] - 67s 868us/step - loss: 0.0453 - acc: 0.9930 - dice_coef: 0.9547 - val_loss: 0.0967 - val_acc: 0.9872 - val_dice_coef: 0.9033\n",
      "\n",
      "Epoch 00020: val_loss did not improve from 0.09537\n",
      "Epoch 21/100\n",
      "76950/76950 [==============================] - 66s 857us/step - loss: 0.0454 - acc: 0.9930 - dice_coef: 0.9546 - val_loss: 0.0965 - val_acc: 0.9872 - val_dice_coef: 0.9035\n",
      "\n",
      "Epoch 00021: ReduceLROnPlateau reducing learning rate to 1e-05.\n",
      "\n",
      "Epoch 00021: val_loss did not improve from 0.09537\n",
      "Epoch 22/100\n",
      "76950/76950 [==============================] - 67s 875us/step - loss: 0.0452 - acc: 0.9930 - dice_coef: 0.9548 - val_loss: 0.0967 - val_acc: 0.9872 - val_dice_coef: 0.9033\n",
      "\n",
      "Epoch 00022: val_loss did not improve from 0.09537\n",
      "Epoch 23/100\n",
      "76950/76950 [==============================] - 65s 850us/step - loss: 0.0452 - acc: 0.9930 - dice_coef: 0.9548 - val_loss: 0.0964 - val_acc: 0.9872 - val_dice_coef: 0.9036\n",
      "\n",
      "Epoch 00023: val_loss did not improve from 0.09537\n",
      "Epoch 24/100\n",
      "76950/76950 [==============================] - 68s 889us/step - loss: 0.0452 - acc: 0.9930 - dice_coef: 0.9548 - val_loss: 0.0963 - val_acc: 0.9872 - val_dice_coef: 0.9037\n",
      "\n",
      "Epoch 00024: val_loss did not improve from 0.09537\n",
      "Epoch 25/100\n",
      "76950/76950 [==============================] - 69s 899us/step - loss: 0.0452 - acc: 0.9930 - dice_coef: 0.9548 - val_loss: 0.0966 - val_acc: 0.9872 - val_dice_coef: 0.9034\n",
      "\n",
      "Epoch 00025: val_loss did not improve from 0.09537\n",
      "Epoch 26/100\n",
      "76950/76950 [==============================] - 66s 861us/step - loss: 0.0451 - acc: 0.9930 - dice_coef: 0.9549 - val_loss: 0.0965 - val_acc: 0.9872 - val_dice_coef: 0.9035\n",
      "\n",
      "Epoch 00026: val_loss did not improve from 0.09537\n",
      "Epoch 27/100\n",
      "76950/76950 [==============================] - 68s 882us/step - loss: 0.0451 - acc: 0.9930 - dice_coef: 0.9549 - val_loss: 0.0963 - val_acc: 0.9872 - val_dice_coef: 0.9037\n",
      "\n",
      "Epoch 00027: val_loss did not improve from 0.09537\n",
      "Epoch 28/100\n",
      "76950/76950 [==============================] - 67s 873us/step - loss: 0.0450 - acc: 0.9930 - dice_coef: 0.9550 - val_loss: 0.0964 - val_acc: 0.9872 - val_dice_coef: 0.9036\n",
      "\n",
      "Epoch 00028: val_loss did not improve from 0.09537\n",
      "Epoch 29/100\n",
      "76950/76950 [==============================] - 67s 873us/step - loss: 0.0451 - acc: 0.9930 - dice_coef: 0.9549 - val_loss: 0.0967 - val_acc: 0.9872 - val_dice_coef: 0.9033\n",
      "\n",
      "Epoch 00029: val_loss did not improve from 0.09537\n",
      "Epoch 30/100\n",
      "76950/76950 [==============================] - 69s 900us/step - loss: 0.0450 - acc: 0.9930 - dice_coef: 0.9550 - val_loss: 0.0969 - val_acc: 0.9872 - val_dice_coef: 0.9031\n",
      "\n",
      "Epoch 00030: val_loss did not improve from 0.09537\n",
      "Epoch 31/100\n",
      "76950/76950 [==============================] - 67s 873us/step - loss: 0.0449 - acc: 0.9930 - dice_coef: 0.9551 - val_loss: 0.0969 - val_acc: 0.9872 - val_dice_coef: 0.9031\n",
      "\n",
      "Epoch 00031: val_loss did not improve from 0.09537\n",
      "Epoch 32/100\n"
     ]
    },
    {
     "name": "stdout",
     "output_type": "stream",
     "text": [
      "76950/76950 [==============================] - 67s 870us/step - loss: 0.0451 - acc: 0.9930 - dice_coef: 0.9549 - val_loss: 0.0967 - val_acc: 0.9872 - val_dice_coef: 0.9033\n",
      "\n",
      "Epoch 00032: val_loss did not improve from 0.09537\n",
      "Epoch 33/100\n",
      "76950/76950 [==============================] - 68s 887us/step - loss: 0.0449 - acc: 0.9931 - dice_coef: 0.9551 - val_loss: 0.0966 - val_acc: 0.9872 - val_dice_coef: 0.9034\n",
      "\n",
      "Epoch 00033: val_loss did not improve from 0.09537\n",
      "Epoch 34/100\n",
      "76950/76950 [==============================] - 67s 875us/step - loss: 0.0449 - acc: 0.9931 - dice_coef: 0.9551 - val_loss: 0.0969 - val_acc: 0.9872 - val_dice_coef: 0.9031\n",
      "\n",
      "Epoch 00034: val_loss did not improve from 0.09537\n",
      "Epoch 35/100\n",
      "76950/76950 [==============================] - 69s 895us/step - loss: 0.0449 - acc: 0.9931 - dice_coef: 0.9551 - val_loss: 0.0966 - val_acc: 0.9872 - val_dice_coef: 0.9034\n",
      "\n",
      "Epoch 00035: val_loss did not improve from 0.09537\n",
      "Epoch 36/100\n",
      "76950/76950 [==============================] - 69s 896us/step - loss: 0.0449 - acc: 0.9931 - dice_coef: 0.9551 - val_loss: 0.0966 - val_acc: 0.9872 - val_dice_coef: 0.9034\n",
      "\n",
      "Epoch 00036: val_loss did not improve from 0.09537\n",
      "Epoch 37/100\n",
      "76950/76950 [==============================] - 68s 884us/step - loss: 0.0449 - acc: 0.9931 - dice_coef: 0.9551 - val_loss: 0.0965 - val_acc: 0.9872 - val_dice_coef: 0.9035\n",
      "\n",
      "Epoch 00037: val_loss did not improve from 0.09537\n",
      "Epoch 38/100\n",
      "76950/76950 [==============================] - 69s 898us/step - loss: 0.0448 - acc: 0.9931 - dice_coef: 0.9552 - val_loss: 0.0965 - val_acc: 0.9872 - val_dice_coef: 0.9035\n",
      "\n",
      "Epoch 00038: val_loss did not improve from 0.09537\n",
      "Epoch 39/100\n",
      "76950/76950 [==============================] - 68s 883us/step - loss: 0.0448 - acc: 0.9931 - dice_coef: 0.9552 - val_loss: 0.0964 - val_acc: 0.9872 - val_dice_coef: 0.9036\n",
      "\n",
      "Epoch 00039: val_loss did not improve from 0.09537\n",
      "Epoch 40/100\n",
      "76950/76950 [==============================] - 72s 930us/step - loss: 0.0448 - acc: 0.9931 - dice_coef: 0.9552 - val_loss: 0.0967 - val_acc: 0.9872 - val_dice_coef: 0.9033\n",
      "\n",
      "Epoch 00040: val_loss did not improve from 0.09537\n",
      "Epoch 41/100\n",
      "76950/76950 [==============================] - 71s 918us/step - loss: 0.0448 - acc: 0.9931 - dice_coef: 0.9552 - val_loss: 0.0967 - val_acc: 0.9872 - val_dice_coef: 0.9033\n",
      "\n",
      "Epoch 00041: val_loss did not improve from 0.09537\n",
      "Epoch 42/100\n",
      "76950/76950 [==============================] - 67s 877us/step - loss: 0.0447 - acc: 0.9931 - dice_coef: 0.9553 - val_loss: 0.0964 - val_acc: 0.9872 - val_dice_coef: 0.9036\n",
      "\n",
      "Epoch 00042: val_loss did not improve from 0.09537\n",
      "Epoch 43/100\n",
      "76950/76950 [==============================] - 71s 925us/step - loss: 0.0446 - acc: 0.9931 - dice_coef: 0.9554 - val_loss: 0.0963 - val_acc: 0.9872 - val_dice_coef: 0.9037\n",
      "\n",
      "Epoch 00043: val_loss did not improve from 0.09537\n",
      "Epoch 44/100\n",
      "76950/76950 [==============================] - 69s 898us/step - loss: 0.0447 - acc: 0.9931 - dice_coef: 0.9553 - val_loss: 0.0963 - val_acc: 0.9872 - val_dice_coef: 0.9037\n",
      "\n",
      "Epoch 00044: val_loss did not improve from 0.09537\n",
      "Epoch 45/100\n",
      "76950/76950 [==============================] - 71s 922us/step - loss: 0.0447 - acc: 0.9931 - dice_coef: 0.9553 - val_loss: 0.0964 - val_acc: 0.9872 - val_dice_coef: 0.9036\n",
      "\n",
      "Epoch 00045: val_loss did not improve from 0.09537\n",
      "Epoch 46/100\n",
      "76950/76950 [==============================] - 70s 910us/step - loss: 0.0446 - acc: 0.9931 - dice_coef: 0.9554 - val_loss: 0.0963 - val_acc: 0.9872 - val_dice_coef: 0.9037\n",
      "\n",
      "Epoch 00046: val_loss did not improve from 0.09537\n",
      "Epoch 47/100\n",
      "76950/76950 [==============================] - 66s 854us/step - loss: 0.0446 - acc: 0.9931 - dice_coef: 0.9554 - val_loss: 0.0965 - val_acc: 0.9872 - val_dice_coef: 0.9035\n",
      "\n",
      "Epoch 00047: val_loss did not improve from 0.09537\n",
      "Epoch 48/100\n",
      "76950/76950 [==============================] - 69s 892us/step - loss: 0.0446 - acc: 0.9931 - dice_coef: 0.9554 - val_loss: 0.0965 - val_acc: 0.9872 - val_dice_coef: 0.9035\n",
      "\n",
      "Epoch 00048: val_loss did not improve from 0.09537\n",
      "Epoch 49/100\n",
      "76950/76950 [==============================] - 68s 888us/step - loss: 0.0444 - acc: 0.9931 - dice_coef: 0.9556 - val_loss: 0.0966 - val_acc: 0.9872 - val_dice_coef: 0.9034\n",
      "\n",
      "Epoch 00049: val_loss did not improve from 0.09537\n",
      "Epoch 50/100\n",
      "76950/76950 [==============================] - 69s 891us/step - loss: 0.0445 - acc: 0.9931 - dice_coef: 0.9555 - val_loss: 0.0963 - val_acc: 0.9872 - val_dice_coef: 0.9037\n",
      "\n",
      "Epoch 00050: val_loss did not improve from 0.09537\n",
      "Epoch 51/100\n",
      "76950/76950 [==============================] - 69s 902us/step - loss: 0.0445 - acc: 0.9931 - dice_coef: 0.9555 - val_loss: 0.0965 - val_acc: 0.9872 - val_dice_coef: 0.9035\n",
      "\n",
      "Epoch 00051: val_loss did not improve from 0.09537\n",
      "Epoch 52/100\n",
      "76950/76950 [==============================] - 66s 862us/step - loss: 0.0444 - acc: 0.9931 - dice_coef: 0.9556 - val_loss: 0.0964 - val_acc: 0.9872 - val_dice_coef: 0.9036\n",
      "\n",
      "Epoch 00052: val_loss did not improve from 0.09537\n",
      "Epoch 53/100\n",
      "76950/76950 [==============================] - 67s 876us/step - loss: 0.0445 - acc: 0.9931 - dice_coef: 0.9555 - val_loss: 0.0962 - val_acc: 0.9872 - val_dice_coef: 0.9038\n",
      "\n",
      "Epoch 00053: val_loss did not improve from 0.09537\n",
      "Epoch 54/100\n",
      "76950/76950 [==============================] - 69s 892us/step - loss: 0.0445 - acc: 0.9931 - dice_coef: 0.9555 - val_loss: 0.0964 - val_acc: 0.9872 - val_dice_coef: 0.9036\n",
      "\n",
      "Epoch 00054: val_loss did not improve from 0.09537\n",
      "Epoch 55/100\n",
      "76950/76950 [==============================] - 68s 890us/step - loss: 0.0445 - acc: 0.9931 - dice_coef: 0.9555 - val_loss: 0.0964 - val_acc: 0.9872 - val_dice_coef: 0.9036\n",
      "\n",
      "Epoch 00055: val_loss did not improve from 0.09537\n",
      "Epoch 56/100\n",
      "76950/76950 [==============================] - 69s 894us/step - loss: 0.0444 - acc: 0.9931 - dice_coef: 0.9556 - val_loss: 0.0964 - val_acc: 0.9872 - val_dice_coef: 0.9036\n",
      "\n",
      "Epoch 00056: val_loss did not improve from 0.09537\n",
      "Epoch 57/100\n",
      "76950/76950 [==============================] - 68s 880us/step - loss: 0.0444 - acc: 0.9931 - dice_coef: 0.9556 - val_loss: 0.0966 - val_acc: 0.9872 - val_dice_coef: 0.9034\n",
      "\n",
      "Epoch 00057: val_loss did not improve from 0.09537\n",
      "Epoch 58/100\n",
      "76950/76950 [==============================] - 67s 872us/step - loss: 0.0443 - acc: 0.9931 - dice_coef: 0.9557 - val_loss: 0.0966 - val_acc: 0.9871 - val_dice_coef: 0.9034\n",
      "\n",
      "Epoch 00058: val_loss did not improve from 0.09537\n",
      "Epoch 59/100\n",
      "76950/76950 [==============================] - 69s 898us/step - loss: 0.0443 - acc: 0.9931 - dice_coef: 0.9557 - val_loss: 0.0966 - val_acc: 0.9872 - val_dice_coef: 0.9034\n",
      "\n",
      "Epoch 00059: val_loss did not improve from 0.09537\n",
      "Epoch 60/100\n",
      "76950/76950 [==============================] - 68s 888us/step - loss: 0.0443 - acc: 0.9932 - dice_coef: 0.9557 - val_loss: 0.0967 - val_acc: 0.9871 - val_dice_coef: 0.9033\n",
      "\n",
      "Epoch 00060: val_loss did not improve from 0.09537\n",
      "Epoch 61/100\n",
      "76950/76950 [==============================] - 69s 894us/step - loss: 0.0443 - acc: 0.9932 - dice_coef: 0.9557 - val_loss: 0.0964 - val_acc: 0.9871 - val_dice_coef: 0.9036\n",
      "\n",
      "Epoch 00061: val_loss did not improve from 0.09537\n",
      "Epoch 62/100\n",
      "76950/76950 [==============================] - 69s 895us/step - loss: 0.0442 - acc: 0.9931 - dice_coef: 0.9558 - val_loss: 0.0965 - val_acc: 0.9872 - val_dice_coef: 0.9035\n",
      "\n",
      "Epoch 00062: val_loss did not improve from 0.09537\n",
      "Epoch 63/100\n",
      "76950/76950 [==============================] - 66s 863us/step - loss: 0.0442 - acc: 0.9932 - dice_coef: 0.9558 - val_loss: 0.0967 - val_acc: 0.9872 - val_dice_coef: 0.9033\n",
      "\n",
      "Epoch 00063: val_loss did not improve from 0.09537\n",
      "Epoch 64/100\n",
      "76950/76950 [==============================] - 68s 889us/step - loss: 0.0442 - acc: 0.9932 - dice_coef: 0.9558 - val_loss: 0.0966 - val_acc: 0.9871 - val_dice_coef: 0.9034\n",
      "\n",
      "Epoch 00064: val_loss did not improve from 0.09537\n",
      "Epoch 65/100\n",
      "76950/76950 [==============================] - 68s 883us/step - loss: 0.0441 - acc: 0.9932 - dice_coef: 0.9559 - val_loss: 0.0965 - val_acc: 0.9872 - val_dice_coef: 0.9035\n",
      "\n",
      "Epoch 00065: val_loss did not improve from 0.09537\n",
      "Epoch 66/100\n"
     ]
    },
    {
     "name": "stdout",
     "output_type": "stream",
     "text": [
      "76950/76950 [==============================] - 69s 890us/step - loss: 0.0441 - acc: 0.9932 - dice_coef: 0.9559 - val_loss: 0.0964 - val_acc: 0.9872 - val_dice_coef: 0.9036\n",
      "\n",
      "Epoch 00066: val_loss did not improve from 0.09537\n",
      "Epoch 67/100\n",
      "76950/76950 [==============================] - 69s 897us/step - loss: 0.0442 - acc: 0.9932 - dice_coef: 0.9558 - val_loss: 0.0964 - val_acc: 0.9872 - val_dice_coef: 0.9036\n",
      "\n",
      "Epoch 00067: val_loss did not improve from 0.09537\n",
      "Epoch 68/100\n",
      "76950/76950 [==============================] - 66s 863us/step - loss: 0.0442 - acc: 0.9932 - dice_coef: 0.9558 - val_loss: 0.0966 - val_acc: 0.9872 - val_dice_coef: 0.9034\n",
      "\n",
      "Epoch 00068: val_loss did not improve from 0.09537\n",
      "Epoch 69/100\n",
      "76950/76950 [==============================] - 68s 885us/step - loss: 0.0440 - acc: 0.9932 - dice_coef: 0.9560 - val_loss: 0.0964 - val_acc: 0.9871 - val_dice_coef: 0.9036\n",
      "\n",
      "Epoch 00069: val_loss did not improve from 0.09537\n",
      "Epoch 70/100\n",
      "76950/76950 [==============================] - 69s 896us/step - loss: 0.0441 - acc: 0.9932 - dice_coef: 0.9559 - val_loss: 0.0965 - val_acc: 0.9871 - val_dice_coef: 0.9035\n",
      "\n",
      "Epoch 00070: val_loss did not improve from 0.09537\n",
      "Epoch 71/100\n",
      "76950/76950 [==============================] - 68s 889us/step - loss: 0.0440 - acc: 0.9932 - dice_coef: 0.9560 - val_loss: 0.0965 - val_acc: 0.9872 - val_dice_coef: 0.9035\n",
      "\n",
      "Epoch 00071: val_loss did not improve from 0.09537\n",
      "Epoch 72/100\n",
      "76950/76950 [==============================] - 69s 891us/step - loss: 0.0440 - acc: 0.9932 - dice_coef: 0.9560 - val_loss: 0.0966 - val_acc: 0.9872 - val_dice_coef: 0.9034\n",
      "\n",
      "Epoch 00072: val_loss did not improve from 0.09537\n",
      "Epoch 73/100\n",
      "76950/76950 [==============================] - 67s 870us/step - loss: 0.0440 - acc: 0.9932 - dice_coef: 0.9560 - val_loss: 0.0965 - val_acc: 0.9872 - val_dice_coef: 0.9035\n",
      "\n",
      "Epoch 00073: val_loss did not improve from 0.09537\n",
      "Epoch 74/100\n",
      "76950/76950 [==============================] - 66s 862us/step - loss: 0.0439 - acc: 0.9932 - dice_coef: 0.9561 - val_loss: 0.0966 - val_acc: 0.9871 - val_dice_coef: 0.9034\n",
      "\n",
      "Epoch 00074: val_loss did not improve from 0.09537\n",
      "Epoch 75/100\n",
      "76950/76950 [==============================] - 68s 889us/step - loss: 0.0439 - acc: 0.9932 - dice_coef: 0.9561 - val_loss: 0.0967 - val_acc: 0.9871 - val_dice_coef: 0.9033\n",
      "\n",
      "Epoch 00075: val_loss did not improve from 0.09537\n",
      "Epoch 76/100\n",
      "76950/76950 [==============================] - 67s 870us/step - loss: 0.0439 - acc: 0.9932 - dice_coef: 0.9561 - val_loss: 0.0969 - val_acc: 0.9871 - val_dice_coef: 0.9031\n",
      "\n",
      "Epoch 00076: val_loss did not improve from 0.09537\n",
      "Epoch 77/100\n",
      "76950/76950 [==============================] - 68s 884us/step - loss: 0.0439 - acc: 0.9932 - dice_coef: 0.9561 - val_loss: 0.0968 - val_acc: 0.9871 - val_dice_coef: 0.9032\n",
      "\n",
      "Epoch 00077: val_loss did not improve from 0.09537\n",
      "Epoch 78/100\n",
      "76950/76950 [==============================] - 67s 870us/step - loss: 0.0439 - acc: 0.9932 - dice_coef: 0.9561 - val_loss: 0.0963 - val_acc: 0.9871 - val_dice_coef: 0.9037\n",
      "\n",
      "Epoch 00078: val_loss did not improve from 0.09537\n",
      "Epoch 79/100\n",
      "76950/76950 [==============================] - 66s 857us/step - loss: 0.0438 - acc: 0.9932 - dice_coef: 0.9562 - val_loss: 0.0967 - val_acc: 0.9871 - val_dice_coef: 0.9033\n",
      "\n",
      "Epoch 00079: val_loss did not improve from 0.09537\n",
      "Epoch 80/100\n",
      "76950/76950 [==============================] - 68s 886us/step - loss: 0.0438 - acc: 0.9932 - dice_coef: 0.9562 - val_loss: 0.0963 - val_acc: 0.9871 - val_dice_coef: 0.9037\n",
      "\n",
      "Epoch 00080: val_loss did not improve from 0.09537\n",
      "Epoch 81/100\n",
      "76950/76950 [==============================] - 67s 876us/step - loss: 0.0438 - acc: 0.9932 - dice_coef: 0.9562 - val_loss: 0.0964 - val_acc: 0.9871 - val_dice_coef: 0.9036\n",
      "\n",
      "Epoch 00081: val_loss did not improve from 0.09537\n",
      "Epoch 82/100\n",
      "76950/76950 [==============================] - 67s 872us/step - loss: 0.0438 - acc: 0.9932 - dice_coef: 0.9562 - val_loss: 0.0964 - val_acc: 0.9871 - val_dice_coef: 0.9036\n",
      "\n",
      "Epoch 00082: val_loss did not improve from 0.09537\n",
      "Epoch 83/100\n",
      "76950/76950 [==============================] - 68s 879us/step - loss: 0.0438 - acc: 0.9932 - dice_coef: 0.9562 - val_loss: 0.0964 - val_acc: 0.9871 - val_dice_coef: 0.9036\n",
      "\n",
      "Epoch 00083: val_loss did not improve from 0.09537\n",
      "Epoch 84/100\n",
      "76950/76950 [==============================] - 66s 852us/step - loss: 0.0437 - acc: 0.9932 - dice_coef: 0.9563 - val_loss: 0.0969 - val_acc: 0.9871 - val_dice_coef: 0.9031\n",
      "\n",
      "Epoch 00084: val_loss did not improve from 0.09537\n",
      "Epoch 85/100\n",
      "76950/76950 [==============================] - 67s 874us/step - loss: 0.0437 - acc: 0.9932 - dice_coef: 0.9563 - val_loss: 0.0967 - val_acc: 0.9871 - val_dice_coef: 0.9033\n",
      "\n",
      "Epoch 00085: val_loss did not improve from 0.09537\n",
      "Epoch 86/100\n",
      "76950/76950 [==============================] - 67s 872us/step - loss: 0.0437 - acc: 0.9933 - dice_coef: 0.9563 - val_loss: 0.0967 - val_acc: 0.9871 - val_dice_coef: 0.9033\n",
      "\n",
      "Epoch 00086: val_loss did not improve from 0.09537\n",
      "Epoch 87/100\n",
      "76950/76950 [==============================] - 67s 877us/step - loss: 0.0436 - acc: 0.9933 - dice_coef: 0.9564 - val_loss: 0.0965 - val_acc: 0.9871 - val_dice_coef: 0.9035\n",
      "\n",
      "Epoch 00087: val_loss did not improve from 0.09537\n",
      "Epoch 88/100\n",
      "76950/76950 [==============================] - 68s 888us/step - loss: 0.0436 - acc: 0.9932 - dice_coef: 0.9564 - val_loss: 0.0965 - val_acc: 0.9871 - val_dice_coef: 0.9035\n",
      "\n",
      "Epoch 00088: val_loss did not improve from 0.09537\n",
      "Epoch 89/100\n",
      "76950/76950 [==============================] - 66s 860us/step - loss: 0.0436 - acc: 0.9933 - dice_coef: 0.9564 - val_loss: 0.0965 - val_acc: 0.9871 - val_dice_coef: 0.9035\n",
      "\n",
      "Epoch 00089: val_loss did not improve from 0.09537\n",
      "Epoch 90/100\n",
      "76950/76950 [==============================] - 67s 867us/step - loss: 0.0435 - acc: 0.9933 - dice_coef: 0.9565 - val_loss: 0.0963 - val_acc: 0.9871 - val_dice_coef: 0.9037\n",
      "\n",
      "Epoch 00090: val_loss did not improve from 0.09537\n",
      "Epoch 91/100\n",
      "76950/76950 [==============================] - 68s 890us/step - loss: 0.0436 - acc: 0.9933 - dice_coef: 0.9564 - val_loss: 0.0963 - val_acc: 0.9871 - val_dice_coef: 0.9037\n",
      "\n",
      "Epoch 00091: val_loss did not improve from 0.09537\n",
      "Epoch 92/100\n",
      "76950/76950 [==============================] - 67s 869us/step - loss: 0.0435 - acc: 0.9933 - dice_coef: 0.9565 - val_loss: 0.0964 - val_acc: 0.9871 - val_dice_coef: 0.9036\n",
      "\n",
      "Epoch 00092: val_loss did not improve from 0.09537\n",
      "Epoch 93/100\n",
      "76950/76950 [==============================] - 67s 876us/step - loss: 0.0436 - acc: 0.9933 - dice_coef: 0.9564 - val_loss: 0.0962 - val_acc: 0.9871 - val_dice_coef: 0.9038\n",
      "\n",
      "Epoch 00093: val_loss did not improve from 0.09537\n",
      "Epoch 94/100\n",
      "76950/76950 [==============================] - 67s 876us/step - loss: 0.0434 - acc: 0.9933 - dice_coef: 0.9566 - val_loss: 0.0963 - val_acc: 0.9871 - val_dice_coef: 0.9037\n",
      "\n",
      "Epoch 00094: val_loss did not improve from 0.09537\n",
      "Epoch 95/100\n",
      "76950/76950 [==============================] - 66s 861us/step - loss: 0.0435 - acc: 0.9933 - dice_coef: 0.9565 - val_loss: 0.0967 - val_acc: 0.9871 - val_dice_coef: 0.9033\n",
      "\n",
      "Epoch 00095: val_loss did not improve from 0.09537\n",
      "Epoch 96/100\n",
      "76950/76950 [==============================] - 67s 876us/step - loss: 0.0434 - acc: 0.9933 - dice_coef: 0.9566 - val_loss: 0.0968 - val_acc: 0.9871 - val_dice_coef: 0.9032\n",
      "\n",
      "Epoch 00096: val_loss did not improve from 0.09537\n",
      "Epoch 97/100\n",
      "76950/76950 [==============================] - 68s 885us/step - loss: 0.0434 - acc: 0.9933 - dice_coef: 0.9566 - val_loss: 0.0966 - val_acc: 0.9871 - val_dice_coef: 0.9034\n",
      "\n",
      "Epoch 00097: val_loss did not improve from 0.09537\n",
      "Epoch 98/100\n",
      "76950/76950 [==============================] - 67s 864us/step - loss: 0.0433 - acc: 0.9933 - dice_coef: 0.9567 - val_loss: 0.0964 - val_acc: 0.9871 - val_dice_coef: 0.9036\n",
      "\n",
      "Epoch 00098: val_loss did not improve from 0.09537\n",
      "Epoch 99/100\n",
      "76950/76950 [==============================] - 68s 878us/step - loss: 0.0433 - acc: 0.9933 - dice_coef: 0.9567 - val_loss: 0.0965 - val_acc: 0.9871 - val_dice_coef: 0.9035\n",
      "\n",
      "Epoch 00099: val_loss did not improve from 0.09537\n",
      "Epoch 100/100\n"
     ]
    },
    {
     "name": "stdout",
     "output_type": "stream",
     "text": [
      "76950/76950 [==============================] - 67s 867us/step - loss: 0.0433 - acc: 0.9933 - dice_coef: 0.9567 - val_loss: 0.0967 - val_acc: 0.9871 - val_dice_coef: 0.9033\n",
      "\n",
      "Epoch 00100: val_loss did not improve from 0.09537\n"
     ]
    }
   ],
   "source": [
    "# data augmentation\n",
    "\n",
    "results_aug = model_aug.fit(X_train_aug, y_train_aug,\n",
    "                            batch_size=64, epochs=100, \n",
    "                            callbacks=callbacks_aug, \n",
    "                            validation_data=(X_valid_aug, y_valid_aug))"
   ]
  },
  {
   "cell_type": "markdown",
   "metadata": {},
   "source": [
    "Learning curves visualization:"
   ]
  },
  {
   "cell_type": "code",
   "execution_count": 447,
   "metadata": {},
   "outputs": [
    {
     "data": {
      "image/png": "[encoded data removed]",
      "text/plain": [
       "<Figure size 576x576 with 1 Axes>"
      ]
     },
     "metadata": {
      "needs_background": "light"
     },
     "output_type": "display_data"
    }
   ],
   "source": [
    "# simple model\n",
    "\n",
    "plt.figure(figsize=(8, 8))\n",
    "plt.title(\"Learning curve (simple model)\")\n",
    "plt.plot(results_simple.history[\"loss\"], label=\"loss\")\n",
    "plt.plot(results_simple.history[\"val_loss\"], label=\"val_loss\")\n",
    "plt.plot( np.argmin(results_simple.history[\"val_loss\"]), np.min(results_simple.history[\"val_loss\"]), \n",
    "         marker=\"x\", color=\"r\", label=\"best model\")\n",
    "plt.xlabel(\"Epochs\")\n",
    "plt.ylabel(\"loss\")\n",
    "plt.legend();"
   ]
  },
  {
   "cell_type": "code",
   "execution_count": 448,
   "metadata": {},
   "outputs": [
    {
     "data": {
      "image/png": "[encoded data removed]",
      "text/plain": [
       "<Figure size 576x576 with 1 Axes>"
      ]
     },
     "metadata": {
      "needs_background": "light"
     },
     "output_type": "display_data"
    }
   ],
   "source": [
    "# augmented model\n",
    "\n",
    "plt.figure(figsize=(8, 8))\n",
    "plt.title(\"Learning curve (augmented model)\")\n",
    "plt.plot(results_aug.history[\"loss\"], label=\"loss\")\n",
    "plt.plot(results_aug.history[\"val_loss\"], label=\"val_loss\")\n",
    "plt.plot( np.argmin(results_aug.history[\"val_loss\"]), np.min(results_aug.history[\"val_loss\"]), \n",
    "         marker=\"x\", color=\"r\", label=\"best model\")\n",
    "plt.xlabel(\"Epochs\")\n",
    "plt.ylabel(\"loss\")\n",
    "plt.legend();"
   ]
  },
  {
   "cell_type": "markdown",
   "metadata": {},
   "source": [
    "## 5. Models performance on patches"
   ]
  },
  {
   "cell_type": "markdown",
   "metadata": {},
   "source": [
    "Loading weights:"
   ]
  },
  {
   "cell_type": "code",
   "execution_count": 411,
   "metadata": {},
   "outputs": [],
   "source": [
    "model_simple.load_weights('../res/plaq-u-net_simple_dce.h5')\n",
    "model_aug.load_weights('../res/plaq-u-net_aug_dce.h5')"
   ]
  },
  {
   "cell_type": "markdown",
   "metadata": {},
   "source": [
    "Evaluating on the PATCHES of the validation set:"
   ]
  },
  {
   "cell_type": "code",
   "execution_count": 412,
   "metadata": {},
   "outputs": [
    {
     "name": "stdout",
     "output_type": "stream",
     "text": [
      "1695/1695 [==============================] - 1s 435us/step\n"
     ]
    },
    {
     "data": {
      "text/plain": [
       "[0.08477280871354725, 0.9681693916827177, 0.9152271915677727]"
      ]
     },
     "execution_count": 412,
     "metadata": {},
     "output_type": "execute_result"
    }
   ],
   "source": [
    "# simple model\n",
    "\n",
    "model_simple.evaluate(X_valid, y_valid, verbose=1)"
   ]
  },
  {
   "cell_type": "code",
   "execution_count": 413,
   "metadata": {},
   "outputs": [
    {
     "name": "stdout",
     "output_type": "stream",
     "text": [
      "1695/1695 [==============================] - 1s 411us/step\n"
     ]
    },
    {
     "data": {
      "text/plain": [
       "[0.08296089073901332, 0.9672700323889741, 0.9170391086983469]"
      ]
     },
     "execution_count": 413,
     "metadata": {},
     "output_type": "execute_result"
    }
   ],
   "source": [
    "# augmented model:\n",
    "\n",
    "model_aug.evaluate(X_valid, y_valid, verbose=1)"
   ]
  },
  {
   "cell_type": "markdown",
   "metadata": {},
   "source": [
    "Evaluation on the PATCHES of the test set:"
   ]
  },
  {
   "cell_type": "code",
   "execution_count": 414,
   "metadata": {},
   "outputs": [
    {
     "name": "stdout",
     "output_type": "stream",
     "text": [
      "350/350 [==============================] - 1s 2ms/step\n"
     ]
    },
    {
     "data": {
      "text/plain": [
       "[0.08064209154673985, 0.9690876112665449, 0.9193579084532602]"
      ]
     },
     "execution_count": 414,
     "metadata": {},
     "output_type": "execute_result"
    }
   ],
   "source": [
    "# simple model\n",
    "\n",
    "model_simple.evaluate(X_test, y_test, verbose=1)"
   ]
  },
  {
   "cell_type": "code",
   "execution_count": 415,
   "metadata": {},
   "outputs": [
    {
     "name": "stdout",
     "output_type": "stream",
     "text": [
      "350/350 [==============================] - 0s 480us/step\n"
     ]
    },
    {
     "data": {
      "text/plain": [
       "[0.09418484006609236, 0.9630894255638123, 0.9058151599339076]"
      ]
     },
     "execution_count": 415,
     "metadata": {},
     "output_type": "execute_result"
    }
   ],
   "source": [
    "# augmented model\n",
    "\n",
    "model_aug.evaluate(X_test, y_test, verbose=1)"
   ]
  },
  {
   "cell_type": "markdown",
   "metadata": {},
   "source": [
    "Predictions for the test set (+ thresholding):"
   ]
  },
  {
   "cell_type": "code",
   "execution_count": 416,
   "metadata": {},
   "outputs": [
    {
     "name": "stdout",
     "output_type": "stream",
     "text": [
      "350/350 [==============================] - 2s 5ms/step\n",
      "350/350 [==============================] - 2s 5ms/step\n"
     ]
    }
   ],
   "source": [
    "preds_test_simple = model_simple.predict(X_test, verbose=1)\n",
    "preds_test_simple_t = (preds_test_simple > 0.5).astype(np.uint8)\n",
    "\n",
    "preds_test_aug = model_aug.predict(X_test, verbose=1)\n",
    "preds_test_aug_t = (preds_test_aug > 0.5).astype(np.uint8)"
   ]
  },
  {
   "cell_type": "markdown",
   "metadata": {},
   "source": [
    "Visualization of the prediction:"
   ]
  },
  {
   "cell_type": "code",
   "execution_count": 417,
   "metadata": {},
   "outputs": [],
   "source": [
    "from matplotlib.patches import Patch\n",
    "import matplotlib.font_manager as font_manager"
   ]
  },
  {
   "cell_type": "code",
   "execution_count": 418,
   "metadata": {},
   "outputs": [],
   "source": [
    "font = font_manager.FontProperties(family='Times New Roman', weight='ultralight', size='12')"
   ]
  },
  {
   "cell_type": "code",
   "execution_count": 423,
   "metadata": {},
   "outputs": [
    {
     "data": {
      "image/png": "[encoded data removed]",
      "text/plain": [
       "<Figure size 1440x720 with 4 Axes>"
      ]
     },
     "metadata": {
      "needs_background": "light"
     },
     "output_type": "display_data"
    }
   ],
   "source": [
    "ix = 90\n",
    "\n",
    "fig, ax = plt.subplots(2, 2, figsize=(20, 10))\n",
    "\n",
    "ax[0,0].imshow(X_test[ix, ..., 0], cmap='viridis')\n",
    "ax[0,0].contour(y_test[ix].squeeze(), colors='lime', levels=[0.5], linewidths=3)\n",
    "ax[0,0].set_title('GT')\n",
    "ax[0,0].grid(False)\n",
    "\n",
    "ax[0,1].imshow(X_test[ix, ..., 0], cmap='viridis')\n",
    "ax[0,1].contour(preds_test_simple[ix].squeeze(), colors='r', levels=[0.5], linewidths=5)\n",
    "ax[0,1].set_title('Predicted (simple model)')\n",
    "ax[0,1].grid(False)\n",
    "\n",
    "ax[1,0].imshow(X_test[ix, ..., 0], cmap='viridis')\n",
    "ax[1,0].contour(preds_test_aug[ix].squeeze(), colors='orange', levels=[0.5], linewidths=5)\n",
    "ax[1,0].set_title('Predicted (augmented model)')\n",
    "ax[1,0].grid(False)\n",
    "\n",
    "ax[1,1].imshow(X_test[ix, ..., 1].squeeze())\n",
    "ax[1,1].contour(preds_test_simple[ix].squeeze(), colors='r', levels=[0.5], linewidths=3)\n",
    "ax[1,1].contour(preds_test_aug[ix].squeeze(), colors='orange', levels=[0.5], linewidths=3)\n",
    "ax[1,1].contour(y_test[ix].squeeze(), colors='lime', levels=[0.5], linewidths=3)\n",
    "ax[1,1].set_title('Predicted segmentations')\n",
    "#legend_elements = [Patch(facecolor='red', label='Groundtruth'),\n",
    "#                   Patch(facecolor='yellow', label='Autosegmentation')]\n",
    "#ax[1,1].legend(handles=legend_elements, loc=4, prop=font)\n",
    "ax[1,1].grid(False)"
   ]
  },
  {
   "cell_type": "code",
   "execution_count": null,
   "metadata": {},
   "outputs": [],
   "source": []
  }
 ],
 "metadata": {
  "kernelspec": {
   "display_name": "Python 3",
   "language": "python",
   "name": "python3"
  },
  "language_info": {
   "codemirror_mode": {
    "name": "ipython",
    "version": 3
   },
   "file_extension": ".py",
   "mimetype": "text/x-python",
   "name": "python",
   "nbconvert_exporter": "python",
   "pygments_lexer": "ipython3",
   "version": "3.7.3"
  }
 },
 "nbformat": 4,
 "nbformat_minor": 2
}
