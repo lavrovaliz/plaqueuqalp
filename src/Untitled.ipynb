{
 "cells": [
  {
   "cell_type": "code",
   "execution_count": 1,
   "metadata": {},
   "outputs": [],
   "source": [
    "import numpy as np\n",
    "import os\n",
    "import glob\n",
    "import nibabel as nib"
   ]
  },
  {
   "cell_type": "code",
   "execution_count": 2,
   "metadata": {},
   "outputs": [],
   "source": [
    "dirname_img = \"D:/Lisa/nnUNet_raw_data_base/nnUNet_raw_data/Task001_CA/imagesTs2/\"\n",
    "\n",
    "dirname_gt = \"C:/Users/E.Lavrova/Documents/GitHub/plaqueuqalp/res/nifti_compare/t2w/t2w_gt/\"\n",
    "\n",
    "dirname_nnunet = \"C:/Users/E.Lavrova/Documents/GitHub/plaqueuqalp/res/nifti_compare/t2w/t2w_nnunet/\"\n",
    "dirname_nnunet_p = \"C:/Users/E.Lavrova/Documents/GitHub/plaqueuqalp/res/nifti_compare/t2w/t2w_nnunet_p/\"\n",
    "dirname_plaqunet = \"C:/Users/E.Lavrova/Documents/GitHub/plaqueuqalp/res/nifti_compare/t2w/t2w_plaqunet/\"\n",
    "dirname_plaqunet_p = \"C:/Users/E.Lavrova/Documents/GitHub/plaqueuqalp/res/nifti_compare/t2w/t2w_plaqunet_p/\"\n",
    "dirname_plaqumap = \"C:/Users/E.Lavrova/Documents/GitHub/plaqueuqalp/res/nifti_compare/t2w/t2w_plaqumap/\"\n",
    "dirname_plaqumap_p = \"C:/Users/E.Lavrova/Documents/GitHub/plaqueuqalp/res/nifti_compare/t2w/t2w_plaqumap_p/\"\n",
    "dirname_plaqumap_dropout = \"C:/Users/E.Lavrova/Documents/GitHub/plaqueuqalp/res/nifti_compare/t2w/t2w_plaqumap_dropout/\""
   ]
  },
  {
   "cell_type": "code",
   "execution_count": 3,
   "metadata": {},
   "outputs": [],
   "source": [
    "sub_names_test = ['AMC012', 'AMC006', \n",
    "                  'MUMC094', 'MUMC027', 'MUMC079', 'MUMC052', 'MUMC127', 'MUMC071', 'MUMC038', 'MUMC093', 'MUMC107', \n",
    "                  'MUMC022', 'MUMC114', 'MUMC115', 'MUMC069', 'MUMC130', 'MUMC036', 'MUMC007', 'MUMC059', 'MUMC080', \n",
    "                  'UMCU036', 'UMCU025', 'UMCU008', 'UMCU034']"
   ]
  },
  {
   "cell_type": "code",
   "execution_count": 18,
   "metadata": {},
   "outputs": [
    {
     "name": "stdout",
     "output_type": "stream",
     "text": [
      "15 15\n",
      "15 14\n",
      "15 15\n",
      "15 14\n",
      "15 15\n",
      "14 14\n",
      "15 14\n",
      "15 15\n",
      "15 15\n",
      "15 15\n",
      "15 15\n",
      "15 15\n",
      "15 15\n",
      "13 13\n",
      "10 10\n",
      "14 14\n",
      "15 14\n",
      "15 13\n",
      "15 15\n",
      "14 14\n",
      "15 15\n",
      "15 14\n",
      "15 15\n",
      "15 15\n"
     ]
    }
   ],
   "source": [
    "for sub_name in sub_names_test:\n",
    "    \n",
    "    img_name = dirname_img + sub_name + '_0000.nii.gz'\n",
    "    gt_name = dirname_gt + sub_name + '.nii.gz'\n",
    "    nnunet_name = dirname_nnunet + sub_name + '.nii.gz'\n",
    "    nnunet_p_name = dirname_nnunet_p + sub_name + '.nii.gz'\n",
    "    plaqunet_name = dirname_plaqunet + sub_name + '.nii.gz'\n",
    "    plaqunet_p_name = dirname_plaqunet_p + sub_name + '.nii.gz'\n",
    "    plaqumap_name = dirname_plaqumap + sub_name + '.nii.gz'\n",
    "    plaqumap_p_name = dirname_plaqumap_p + sub_name + '.nii.gz'\n",
    "    plaqumap_dropout_names = glob.glob(dirname_plaqumap_dropout + sub_name + '*.nii.gz')\n",
    "    \n",
    "    img_nii = nib.load(img_name)\n",
    "    gt_nii = nib.load(gt_name)\n",
    "    nnunet_nii = nib.load(nnunet_name)\n",
    "    nnunet_p_nii = nib.load(nnunet_p_name)\n",
    "    plaqunet_nii = nib.load(plaqunet_name)\n",
    "    plaqunet_p_nii = nib.load(plaqunet_p_name)\n",
    "    plaqumap_nii = nib.load(plaqumap_name)\n",
    "    plaqumap_p_nii = nib.load(plaqumap_p_name)\n",
    "    \n",
    "    plaqumap_dropout_nii = []\n",
    "    for i in range (0, len(plaqumap_dropout_names)):\n",
    "        plaqumap_dropout_nii.append(nib.load(plaqumap_dropout_names[i]))\n",
    "        \n",
    "    img = img_nii.get_fdata()\n",
    "    gt = gt_nii.get_fdata()\n",
    "    nnunet = nnunet_nii.get_fdata()\n",
    "    nnunet_p = nnunet_p_nii.get_fdata()\n",
    "    plaqunet = plaqunet_nii.get_fdata()\n",
    "    plaqunet_p = plaqunet_p_nii.get_fdata()\n",
    "    plaqumap = plaqumap_nii.get_fdata()\n",
    "    plaqumap_p = plaqumap_p_nii.get_fdata()\n",
    "    \n",
    "    plaqumap_dropout = []    \n",
    "    for z in range (0, len(plaqumap_dropout_names)):\n",
    "        plaqumap_dropout.append(plaqumap_dropout_nii[i].get_fdata())\n",
    "    \n",
    "    n_z = 0\n",
    "    for z in range(0, img.shape[2]):\n",
    "        if np.sum(img[..., z]*gt[..., z])>0:\n",
    "            n_z += 1\n",
    "    print (img.shape[2], n_z)\n",
    "    \n",
    "    img_new = np.zeros((img.shape[0], img.shape[1], n_z), dtype = img.dtype)\n",
    "    gt_new = np.zeros((gt.shape[0], gt.shape[1], n_z), dtype = gt.dtype)\n",
    "    nnunet_new = np.zeros((nnunet.shape[0], nnunet.shape[1], n_z), dtype = nnunet.dtype)\n",
    "    nnunet_p_new = np.zeros((nnunet_p.shape[0], nnunet_p.shape[1], n_z), dtype = nnunet_p.dtype)\n",
    "    plaqunet_new = np.zeros((plaqunet.shape[0], plaqunet.shape[1], n_z), dtype = plaqunet.dtype)\n",
    "    plaqunet_p_new = np.zeros((plaqunet_p.shape[0], plaqunet_p.shape[1], n_z), dtype = plaqunet_p.dtype)\n",
    "    plaqumap_new = np.zeros((plaqumap.shape[0], plaqumap.shape[1], n_z), dtype = plaqumap.dtype)\n",
    "    plaqumap_p_new = np.zeros((plaqumap_p.shape[0], plaqumap_p.shape[1], n_z), dtype = plaqumap_p.dtype)\n",
    "    \n",
    "    plaqumap_dropout_new = []\n",
    "    for i in range (0, len(plaqumap_dropout_names)):\n",
    "        plaqumap_dropout_new.append(np.zeros((plaqumap_dropout[i].shape[0], plaqumap_dropout[i].shape[1], n_z), \n",
    "                                             dtype = plaqumap_dropout[i].dtype))\n",
    "        \n",
    "    for z in range(0, img.shape[2]):\n",
    "        if np.sum(img[..., z]*gt[..., z])>0:\n",
    "            \n",
    "            img_new[..., z] = img[z]\n",
    "            gt_new[..., z] = gt[z]\n",
    "            nnunet_new[..., z] = nnunet[z]\n",
    "            nnunet_p_new[..., z] = nnunet_p[z]\n",
    "            plaqunet_new[..., z] = plaqunet[z]\n",
    "            plaqunet_p_new[..., z] = plaqunet_p[z]\n",
    "            plaqumap_new[..., z] = plaqumap[z]\n",
    "            plaqumap_p_new[..., z] = plaqumap_p[z]\n",
    "            \n",
    "            for i in range (0, len(plaqumap_dropout_names)):\n",
    "                plaqumap_dropout_new[i][..., z] = plaqumap_dropout[i][..., z]\n",
    "                \n",
    "    img_nii_new = "
   ]
  },
  {
   "cell_type": "code",
   "execution_count": 15,
   "metadata": {},
   "outputs": [
    {
     "data": {
      "text/plain": [
       "dtype('float64')"
      ]
     },
     "execution_count": 15,
     "metadata": {},
     "output_type": "execute_result"
    }
   ],
   "source": [
    "img_nii.get_fdata().dtype"
   ]
  },
  {
   "cell_type": "code",
   "execution_count": null,
   "metadata": {},
   "outputs": [],
   "source": []
  }
 ],
 "metadata": {
  "kernelspec": {
   "display_name": "Python 3",
   "language": "python",
   "name": "python3"
  },
  "language_info": {
   "codemirror_mode": {
    "name": "ipython",
    "version": 3
   },
   "file_extension": ".py",
   "mimetype": "text/x-python",
   "name": "python",
   "nbconvert_exporter": "python",
   "pygments_lexer": "ipython3",
   "version": "3.7.3"
  }
 },
 "nbformat": 4,
 "nbformat_minor": 2
}
