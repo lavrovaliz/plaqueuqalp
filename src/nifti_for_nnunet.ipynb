{
 "cells": [
  {
   "cell_type": "code",
   "execution_count": 8,
   "metadata": {},
   "outputs": [],
   "source": [
    "import os\n",
    "import glob\n",
    "import shutil"
   ]
  },
  {
   "cell_type": "code",
   "execution_count": 5,
   "metadata": {},
   "outputs": [],
   "source": [
    "or_dir_name = r\"C:\\Users\\E.Lavrova\\Documents\\GitHub\\plaqueuqalp\\res\\nifti\"\n",
    "nn_dir_name = r\"C:\\Users\\E.Lavrova\\Desktop\\parisk_raw_database\\parisk_raw_data\\Task777_CA\""
   ]
  },
  {
   "cell_type": "code",
   "execution_count": 6,
   "metadata": {},
   "outputs": [],
   "source": [
    "sub_names = os.listdir(or_dir_name)"
   ]
  },
  {
   "cell_type": "code",
   "execution_count": 7,
   "metadata": {},
   "outputs": [],
   "source": [
    "sub_names_test = ['AMC012', 'AMC006', 'MUMC094', 'MUMC027', 'MUMC079', 'MUMC052', 'MUMC127', 'MUMC071', 'MUMC038',\n",
    "                  'MUMC093', 'MUMC107', 'MUMC022', 'MUMC114', 'MUMC115', 'MUMC069', 'MUMC130', 'MUMC036', 'MUMC007', \n",
    "                  'MUMC059', 'MUMC080', 'UMCU036', 'UMCU025', 'UMCU008', 'UMCU034']"
   ]
  },
  {
   "cell_type": "code",
   "execution_count": 9,
   "metadata": {},
   "outputs": [],
   "source": [
    "for sub_name in sub_names:\n",
    "    if (sub_name not in sub_names_test)&(sub_name[0]!='E'):\n",
    "        sub_dir_name = os.path.join(or_dir_name, sub_name)\n",
    "        shutil.copy(sub_dir_name+'/img_T1w.nii.gz', nn_dir_name+'/imagesTr/'+sub_name+'_0000.nii.gz')\n",
    "        shutil.copy(sub_dir_name+'/mask_GT.nii.gz', nn_dir_name+'/labelsTr/'+sub_name+'.nii.gz')"
   ]
  },
  {
   "cell_type": "code",
   "execution_count": 10,
   "metadata": {},
   "outputs": [],
   "source": [
    "for sub_name in sub_names_test:\n",
    "    \n",
    "    sub_dir_name = os.path.join(or_dir_name, sub_name)\n",
    "    shutil.copy(sub_dir_name+'/img_T1w.nii.gz', nn_dir_name+'/imagesTs/'+sub_name+'_0000.nii.gz')\n",
    "    shutil.copy(sub_dir_name+'/mask_GT.nii.gz', nn_dir_name+'/labelsTs/'+sub_name+'.nii.gz')"
   ]
  },
  {
   "cell_type": "code",
   "execution_count": 12,
   "metadata": {},
   "outputs": [
    {
     "ename": "ModuleNotFoundError",
     "evalue": "No module named 'nnunet'",
     "output_type": "error",
     "traceback": [
      "\u001b[1;31m---------------------------------------------------------------------------\u001b[0m",
      "\u001b[1;31mModuleNotFoundError\u001b[0m                       Traceback (most recent call last)",
      "\u001b[1;32m<ipython-input-12-f77a8478c0fa>\u001b[0m in \u001b[0;36m<module>\u001b[1;34m\u001b[0m\n\u001b[0;32m      1\u001b[0m \u001b[1;32mimport\u001b[0m \u001b[0mnumpy\u001b[0m \u001b[1;32mas\u001b[0m \u001b[0mnp\u001b[0m\u001b[1;33m\u001b[0m\u001b[1;33m\u001b[0m\u001b[0m\n\u001b[1;32m----> 2\u001b[1;33m \u001b[1;32mfrom\u001b[0m \u001b[0mnnunet\u001b[0m\u001b[1;33m.\u001b[0m\u001b[0mdataset_conversion\u001b[0m\u001b[1;33m.\u001b[0m\u001b[0mutils\u001b[0m \u001b[1;32mimport\u001b[0m \u001b[0mgenerate_dataset_json\u001b[0m\u001b[1;33m\u001b[0m\u001b[1;33m\u001b[0m\u001b[0m\n\u001b[0m",
      "\u001b[1;31mModuleNotFoundError\u001b[0m: No module named 'nnunet'"
     ]
    }
   ],
   "source": [
    "import numpy as np\n",
    "from nnunet.dataset_conversion.utils import generate_dataset_json"
   ]
  },
  {
   "cell_type": "code",
   "execution_count": null,
   "metadata": {},
   "outputs": [],
   "source": []
  }
 ],
 "metadata": {
  "kernelspec": {
   "display_name": "Python 3",
   "language": "python",
   "name": "python3"
  },
  "language_info": {
   "codemirror_mode": {
    "name": "ipython",
    "version": 3
   },
   "file_extension": ".py",
   "mimetype": "text/x-python",
   "name": "python",
   "nbconvert_exporter": "python",
   "pygments_lexer": "ipython3",
   "version": "3.7.3"
  }
 },
 "nbformat": 4,
 "nbformat_minor": 2
}
