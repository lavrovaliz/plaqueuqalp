{
 "cells": [
  {
   "cell_type": "markdown",
   "metadata": {},
   "source": [
    "# plaq-u-net: multi-patch consensus U-Net for automated detection and segmentation of the carotid arteries on black blood MRI sequences"
   ]
  },
  {
   "cell_type": "markdown",
   "metadata": {},
   "source": [
    "E. Lavrova, 2022\n",
    "\n",
    "This is a code supporting the corresponding paper."
   ]
  },
  {
   "cell_type": "markdown",
   "metadata": {},
   "source": [
    "Packages import:"
   ]
  },
  {
   "cell_type": "code",
   "execution_count": 3,
   "metadata": {},
   "outputs": [
    {
     "name": "stderr",
     "output_type": "stream",
     "text": [
      "Using TensorFlow backend.\n",
      "C:\\Users\\E.Lavrova\\.conda\\envs\\lisa_tf1\\lib\\site-packages\\tensorflow\\python\\framework\\dtypes.py:516: FutureWarning: Passing (type, 1) or '1type' as a synonym of type is deprecated; in a future version of numpy, it will be understood as (type, (1,)) / '(1,)type'.\n",
      "  _np_qint8 = np.dtype([(\"qint8\", np.int8, 1)])\n",
      "C:\\Users\\E.Lavrova\\.conda\\envs\\lisa_tf1\\lib\\site-packages\\tensorflow\\python\\framework\\dtypes.py:517: FutureWarning: Passing (type, 1) or '1type' as a synonym of type is deprecated; in a future version of numpy, it will be understood as (type, (1,)) / '(1,)type'.\n",
      "  _np_quint8 = np.dtype([(\"quint8\", np.uint8, 1)])\n",
      "C:\\Users\\E.Lavrova\\.conda\\envs\\lisa_tf1\\lib\\site-packages\\tensorflow\\python\\framework\\dtypes.py:518: FutureWarning: Passing (type, 1) or '1type' as a synonym of type is deprecated; in a future version of numpy, it will be understood as (type, (1,)) / '(1,)type'.\n",
      "  _np_qint16 = np.dtype([(\"qint16\", np.int16, 1)])\n",
      "C:\\Users\\E.Lavrova\\.conda\\envs\\lisa_tf1\\lib\\site-packages\\tensorflow\\python\\framework\\dtypes.py:519: FutureWarning: Passing (type, 1) or '1type' as a synonym of type is deprecated; in a future version of numpy, it will be understood as (type, (1,)) / '(1,)type'.\n",
      "  _np_quint16 = np.dtype([(\"quint16\", np.uint16, 1)])\n",
      "C:\\Users\\E.Lavrova\\.conda\\envs\\lisa_tf1\\lib\\site-packages\\tensorflow\\python\\framework\\dtypes.py:520: FutureWarning: Passing (type, 1) or '1type' as a synonym of type is deprecated; in a future version of numpy, it will be understood as (type, (1,)) / '(1,)type'.\n",
      "  _np_qint32 = np.dtype([(\"qint32\", np.int32, 1)])\n",
      "C:\\Users\\E.Lavrova\\.conda\\envs\\lisa_tf1\\lib\\site-packages\\tensorflow\\python\\framework\\dtypes.py:525: FutureWarning: Passing (type, 1) or '1type' as a synonym of type is deprecated; in a future version of numpy, it will be understood as (type, (1,)) / '(1,)type'.\n",
      "  np_resource = np.dtype([(\"resource\", np.ubyte, 1)])\n",
      "C:\\Users\\E.Lavrova\\.conda\\envs\\lisa_tf1\\lib\\site-packages\\tensorboard\\compat\\tensorflow_stub\\dtypes.py:541: FutureWarning: Passing (type, 1) or '1type' as a synonym of type is deprecated; in a future version of numpy, it will be understood as (type, (1,)) / '(1,)type'.\n",
      "  _np_qint8 = np.dtype([(\"qint8\", np.int8, 1)])\n",
      "C:\\Users\\E.Lavrova\\.conda\\envs\\lisa_tf1\\lib\\site-packages\\tensorboard\\compat\\tensorflow_stub\\dtypes.py:542: FutureWarning: Passing (type, 1) or '1type' as a synonym of type is deprecated; in a future version of numpy, it will be understood as (type, (1,)) / '(1,)type'.\n",
      "  _np_quint8 = np.dtype([(\"quint8\", np.uint8, 1)])\n",
      "C:\\Users\\E.Lavrova\\.conda\\envs\\lisa_tf1\\lib\\site-packages\\tensorboard\\compat\\tensorflow_stub\\dtypes.py:543: FutureWarning: Passing (type, 1) or '1type' as a synonym of type is deprecated; in a future version of numpy, it will be understood as (type, (1,)) / '(1,)type'.\n",
      "  _np_qint16 = np.dtype([(\"qint16\", np.int16, 1)])\n",
      "C:\\Users\\E.Lavrova\\.conda\\envs\\lisa_tf1\\lib\\site-packages\\tensorboard\\compat\\tensorflow_stub\\dtypes.py:544: FutureWarning: Passing (type, 1) or '1type' as a synonym of type is deprecated; in a future version of numpy, it will be understood as (type, (1,)) / '(1,)type'.\n",
      "  _np_quint16 = np.dtype([(\"quint16\", np.uint16, 1)])\n",
      "C:\\Users\\E.Lavrova\\.conda\\envs\\lisa_tf1\\lib\\site-packages\\tensorboard\\compat\\tensorflow_stub\\dtypes.py:545: FutureWarning: Passing (type, 1) or '1type' as a synonym of type is deprecated; in a future version of numpy, it will be understood as (type, (1,)) / '(1,)type'.\n",
      "  _np_qint32 = np.dtype([(\"qint32\", np.int32, 1)])\n",
      "C:\\Users\\E.Lavrova\\.conda\\envs\\lisa_tf1\\lib\\site-packages\\tensorboard\\compat\\tensorflow_stub\\dtypes.py:550: FutureWarning: Passing (type, 1) or '1type' as a synonym of type is deprecated; in a future version of numpy, it will be understood as (type, (1,)) / '(1,)type'.\n",
      "  np_resource = np.dtype([(\"resource\", np.ubyte, 1)])\n"
     ]
    }
   ],
   "source": [
    "import os\n",
    "import numpy as np\n",
    "\n",
    "from xml.etree import ElementTree\n",
    "from numpy import zeros\n",
    "from numpy import asarray\n",
    "from numpy import expand_dims\n",
    "from numpy import mean\n",
    "import pydicom\n",
    "import random\n",
    "import matplotlib.pyplot as plt\n",
    "import glob\n",
    "import matplotlib.patches as patches\n",
    "\n",
    "import cv2\n",
    "import SimpleITK as sitk\n",
    "\n",
    "from skimage import exposure\n",
    "from skimage import img_as_float\n",
    "from skimage.io import imread, imshow, concatenate_images\n",
    "from skimage.transform import resize\n",
    "from skimage.morphology import label\n",
    "from skimage import morphology\n",
    "from skimage.filters import threshold_otsu, threshold_local\n",
    "\n",
    "import keras\n",
    "from keras.models import Model, load_model\n",
    "from keras.layers import Input, BatchNormalization, Activation, Dense, Dropout\n",
    "from keras.layers.core import Lambda, RepeatVector, Reshape\n",
    "from keras.layers.convolutional import Conv2D, Conv2DTranspose\n",
    "from keras.layers.pooling import MaxPooling2D, GlobalMaxPool2D\n",
    "from keras.layers.merge import concatenate, add\n",
    "from keras.callbacks import EarlyStopping, ModelCheckpoint, ReduceLROnPlateau\n",
    "from keras.optimizers import Adam\n",
    "from keras.preprocessing.image import ImageDataGenerator, array_to_img, img_to_array, load_img\n",
    "\n",
    "import pandas as pd\n",
    "\n",
    "plt.style.use(\"ggplot\")\n",
    "\n",
    "from tqdm import tqdm_notebook, tnrange\n",
    "from itertools import chain\n",
    "from scipy.ndimage import zoom"
   ]
  },
  {
   "cell_type": "code",
   "execution_count": 5,
   "metadata": {},
   "outputs": [
    {
     "name": "stdout",
     "output_type": "stream",
     "text": [
      "WARNING:tensorflow:From C:\\Users\\E65FE~1.LAV\\AppData\\Local\\Temp\\22/ipykernel_17868/3086010079.py:7: The name tf.keras.backend.set_session is deprecated. Please use tf.compat.v1.keras.backend.set_session instead.\n",
      "\n"
     ]
    },
    {
     "data": {
      "text/plain": [
       "['/job:localhost/replica:0/task:0/device:GPU:0',\n",
       " '/job:localhost/replica:0/task:0/device:GPU:1']"
      ]
     },
     "execution_count": 5,
     "metadata": {},
     "output_type": "execute_result"
    }
   ],
   "source": [
    "os.environ[\"CUDA_DEVICE_ORDER\"] = \"PCI_BUS_ID\"\n",
    "os.environ[\"CUDA_VISIBLE_DEVICES\"] = '0,1'                        \n",
    "import tensorflow as tf\n",
    "import keras.backend as K\n",
    "config = tf.compat.v1.ConfigProto()\n",
    "config.gpu_options.allow_growth = True\n",
    "tf.compat.v1.keras.backend.set_session(tf.compat.v1.Session(config=config))\n",
    "K.tensorflow_backend._get_available_gpus()"
   ]
  },
  {
   "cell_type": "markdown",
   "metadata": {},
   "source": [
    "## 1. Loading the models"
   ]
  },
  {
   "cell_type": "code",
   "execution_count": 10,
   "metadata": {},
   "outputs": [],
   "source": [
    "im_side = 512"
   ]
  },
  {
   "cell_type": "code",
   "execution_count": 7,
   "metadata": {},
   "outputs": [],
   "source": [
    "from mrcnn.utils import extract_bboxes\n",
    "from mrcnn.visualize import display_instances\n",
    "from mrcnn.config import Config\n",
    "from mrcnn.model import MaskRCNN\n",
    "from mrcnn.utils import compute_ap\n",
    "from mrcnn.model import load_image_gt\n",
    "from mrcnn.model import mold_image\n",
    "from mrcnn.utils import Dataset\n",
    "import mrcnn.model as modellib\n",
    "from matplotlib.patches import Rectangle"
   ]
  },
  {
   "cell_type": "code",
   "execution_count": 8,
   "metadata": {},
   "outputs": [],
   "source": [
    "class PredictionConfig(Config):\n",
    "    NAME = \"plaque_cfg\"\n",
    "    NUM_CLASSES = 1 + 1\n",
    "    GPU_COUNT = 1\n",
    "    IMAGES_PER_GPU = 1"
   ]
  },
  {
   "cell_type": "code",
   "execution_count": 36,
   "metadata": {},
   "outputs": [],
   "source": [
    "cfg = PredictionConfig()\n",
    "\n",
    "model_simple = MaskRCNN(mode='inference', model_dir='../res', config=cfg)\n",
    "model_simple.load_weights(\"../res/mask-rcnn_simple.h5\", by_name=True)\n",
    "\n",
    "model_aug = MaskRCNN(mode='inference', model_dir='../res', config=cfg)\n",
    "model_aug.load_weights(\"../res/mask-rcnn_aug.h5\", by_name=True)"
   ]
  },
  {
   "cell_type": "code",
   "execution_count": 60,
   "metadata": {},
   "outputs": [],
   "source": [
    "def detect_ca(img_name, model, resize = False):\n",
    "    \n",
    "    dcm = pydicom.read_file(img_name, force = True)\n",
    "    dcm.file_meta.TransferSyntaxUID = pydicom.uid.ImplicitVRLittleEndian\n",
    "    img = dcm.pixel_array\n",
    "    img_min = np.min(img)\n",
    "    img_max = np.max(img)\n",
    "    img_norm = ((img - img_min)/(img_max - img_min)*255).astype(np.uint8)\n",
    "    \n",
    "    dim = img_norm.shape\n",
    "    \n",
    "    img_ch = np.zeros((im_side, im_side, 3), dtype = np.uint8)\n",
    "    \n",
    "    if resize:\n",
    "        img_res = cv2.resize(img_norm.copy(), dsize=(im_side, im_side), interpolation=cv2.INTER_CUBIC)\n",
    "        img_ch = np.dstack((img_res, img_res, img_res))\n",
    "    else:\n",
    "        img_ch = np.dstack((img_norm[8:-8, 8:-8], img_norm[8:-8, 8:-8], img_norm[8:-8, 8:-8]))\n",
    "\n",
    "    scaled_img = mold_image(img_ch, cfg)\n",
    "    sample = expand_dims(scaled_img, 0)\n",
    "    yhat = model.detect(sample, verbose=0)[0]\n",
    "    \n",
    "    ca_mask = np.zeros((im_side, im_side), dtype=np.uint8)\n",
    "    \n",
    "    for i in range (0, yhat['masks'].shape[2]):\n",
    "        ca_mask+=yhat['masks'][..., i]\n",
    "        \n",
    "    if resize:\n",
    "        ca_mask = cv2.resize(ca_mask, dsize=(dim[0], dim[1]), interpolation=cv2.INTER_CUBIC)\n",
    "        \n",
    "    return ca_mask"
   ]
  },
  {
   "cell_type": "markdown",
   "metadata": {},
   "source": [
    "## 2. CA probability maps calculation"
   ]
  },
  {
   "cell_type": "code",
   "execution_count": 61,
   "metadata": {},
   "outputs": [
    {
     "data": {
      "image/png": "[encoded data removed]",
      "text/plain": [
       "<Figure size 432x288 with 1 Axes>"
      ]
     },
     "metadata": {},
     "output_type": "display_data"
    }
   ],
   "source": [
    "filename = \"C:/Users/E.Lavrova/Documents/plaq-u-net/data/MUMC079/T1w_SER_1401_sl0006.dcm\"\n",
    "\n",
    "a = detect_ca(filename, model_simple)\n",
    "b = path2array(filename)[8:-8,8:-8]\n",
    "\n",
    "plt.imshow(b)\n",
    "plt.contour(a, colors='r')\n",
    "plt.show()"
   ]
  },
  {
   "cell_type": "markdown",
   "metadata": {},
   "source": [
    "### 2.1. Test set"
   ]
  },
  {
   "cell_type": "markdown",
   "metadata": {},
   "source": [
    "Getting patient names from the test set (from training script):"
   ]
  },
  {
   "cell_type": "code",
   "execution_count": 69,
   "metadata": {},
   "outputs": [],
   "source": [
    "sub_names_test = ['AMC012', 'AMC006', 'MUMC094', 'MUMC027', 'MUMC079', 'MUMC052', 'MUMC127', 'MUMC071', 'MUMC038',\n",
    "                  'MUMC093', 'MUMC107', 'MUMC022', 'MUMC114', 'MUMC115', 'MUMC069', 'MUMC130', 'MUMC036', 'MUMC007', \n",
    "                  'MUMC059', 'MUMC080', 'UMCU036', 'UMCU025', 'UMCU008', 'UMCU034']"
   ]
  },
  {
   "cell_type": "markdown",
   "metadata": {},
   "source": [
    "Calculating CA probability maps and saving to the results folder:"
   ]
  },
  {
   "cell_type": "code",
   "execution_count": 49,
   "metadata": {},
   "outputs": [
    {
     "name": "stderr",
     "output_type": "stream",
     "text": [
      "C:\\Users\\E.Lavrova\\.conda\\envs\\lisa_tf1\\lib\\site-packages\\ipykernel_launcher.py:8: RuntimeWarning: invalid value encountered in true_divide\n",
      "  \n"
     ]
    }
   ],
   "source": [
    "ds_dir = '../data/'\n",
    "results_dir_simple = '../res/maps/T1w/mask-rcnn_simple/'\n",
    "results_dir_aug = '../res/maps/T1w/mask-rcnn_aug/'\n",
    "\n",
    "for sub_name in sub_names_test:\n",
    "    \n",
    "    sub_img_names = glob.glob(ds_dir+sub_name+'*/T1W_*.dcm')\n",
    "    \n",
    "    for sub_img_name in sub_img_names:\n",
    "\n",
    "        vessels_pred_simple = detect_ca(sub_img_name, model_simple)\n",
    "        vessels_pred_aug = detect_ca(sub_img_name, model_aug)\n",
    "        \n",
    "        np.save(results_dir_simple + sub_name + '/' + sub_img_name.split(os.sep)[2][-10:-4] + '.npy', \n",
    "                vessels_pred_simple)\n",
    "        np.save(results_dir_aug + sub_name + '/' + sub_img_name.split(os.sep)[2][-10:-4] + '.npy', \n",
    "                vessels_pred_aug)"
   ]
  },
  {
   "cell_type": "code",
   "execution_count": 72,
   "metadata": {},
   "outputs": [
    {
     "name": "stderr",
     "output_type": "stream",
     "text": [
      "C:\\Users\\E.Lavrova\\.conda\\envs\\lisa_tf1\\lib\\site-packages\\ipykernel_launcher.py:8: RuntimeWarning: invalid value encountered in true_divide\n",
      "  \n"
     ]
    }
   ],
   "source": [
    "ds_dir = '../data/'\n",
    "results_dir_simple = '../res/maps/T2w/mask-rcnn_simple/'\n",
    "results_dir_aug = '../res/maps/T2w/mask-rcnn_aug/'\n",
    "\n",
    "for sub_name in sub_names_test:\n",
    "    \n",
    "    sub_img_names = glob.glob(ds_dir+sub_name+'*/T2W_*.dcm')\n",
    "    \n",
    "    for sub_img_name in sub_img_names:\n",
    "\n",
    "        vessels_pred_simple = detect_ca(sub_img_name, model_simple)\n",
    "        vessels_pred_aug = detect_ca(sub_img_name, model_aug)\n",
    "        \n",
    "        np.save(results_dir_simple + sub_name + '/' + sub_img_name.split(os.sep)[2][-10:-4] + '.npy', \n",
    "                vessels_pred_simple)\n",
    "        np.save(results_dir_aug + sub_name + '/' + sub_img_name.split(os.sep)[2][-10:-4] + '.npy', \n",
    "                vessels_pred_aug)"
   ]
  },
  {
   "cell_type": "code",
   "execution_count": 73,
   "metadata": {},
   "outputs": [
    {
     "name": "stderr",
     "output_type": "stream",
     "text": [
      "C:\\Users\\E.Lavrova\\.conda\\envs\\lisa_tf1\\lib\\site-packages\\ipykernel_launcher.py:8: RuntimeWarning: invalid value encountered in true_divide\n",
      "  \n"
     ]
    }
   ],
   "source": [
    "ds_dir = '../data/'\n",
    "results_dir_simple = '../res/maps/T1wCE/mask-rcnn_simple/'\n",
    "results_dir_aug = '../res/maps/T1wCE/mask-rcnn_aug/'\n",
    "\n",
    "for sub_name in sub_names_test:\n",
    "    \n",
    "    sub_img_names = glob.glob(ds_dir+sub_name+'*/T1W-contrast_*.dcm')\n",
    "    \n",
    "    for sub_img_name in sub_img_names:\n",
    "\n",
    "        vessels_pred_simple = detect_ca(sub_img_name, model_simple)\n",
    "        vessels_pred_aug = detect_ca(sub_img_name, model_aug)\n",
    "        \n",
    "        np.save(results_dir_simple + sub_name + '/' + sub_img_name.split(os.sep)[2][-10:-4] + '.npy', \n",
    "                vessels_pred_simple)\n",
    "        np.save(results_dir_aug + sub_name + '/' + sub_img_name.split(os.sep)[2][-10:-4] + '.npy', \n",
    "                vessels_pred_aug)"
   ]
  },
  {
   "cell_type": "markdown",
   "metadata": {},
   "source": [
    "### 2.2 EMC"
   ]
  },
  {
   "cell_type": "markdown",
   "metadata": {},
   "source": [
    "Patient names from EMC:"
   ]
  },
  {
   "cell_type": "code",
   "execution_count": 64,
   "metadata": {},
   "outputs": [],
   "source": [
    "sub_names_emc = ['EMC003', 'EMC004', 'EMC005', 'EMC007', 'EMC008', 'EMC009', 'EMC011', \n",
    "                 'EMC015', 'EMC018', 'EMC020', 'EMC024', 'EMC027', 'EMC029', 'EMC031', \n",
    "                 'EMC032', 'EMC034', 'EMC035', 'EMC036', 'EMC038', 'EMC041', 'EMC042', \n",
    "                 'EMC043', 'EMC045', 'EMC046', 'EMC047', 'EMC048', 'EMC049', 'EMC050', \n",
    "                 'EMC051', 'EMC052', 'EMC054', 'EMC055', 'EMC056', 'EMC057']"
   ]
  },
  {
   "cell_type": "markdown",
   "metadata": {},
   "source": [
    "Calculating CA probability maps and saving to the results folder:"
   ]
  },
  {
   "cell_type": "code",
   "execution_count": 68,
   "metadata": {},
   "outputs": [
    {
     "name": "stdout",
     "output_type": "stream",
     "text": [
      "EMC003\n",
      "EMC004\n",
      "EMC005\n",
      "EMC007\n",
      "EMC008\n",
      "EMC009\n",
      "EMC011\n",
      "EMC015\n",
      "EMC018\n",
      "EMC020\n",
      "EMC024\n",
      "EMC027\n",
      "EMC029\n",
      "EMC031\n",
      "EMC032\n",
      "EMC034\n",
      "EMC035\n",
      "EMC036\n",
      "EMC038\n",
      "EMC041\n",
      "EMC042\n",
      "EMC043\n",
      "EMC045\n",
      "EMC046\n",
      "EMC047\n",
      "EMC048\n",
      "EMC049\n",
      "EMC050\n",
      "EMC051\n",
      "EMC052\n",
      "EMC054\n",
      "EMC055\n",
      "EMC056\n",
      "EMC057\n"
     ]
    }
   ],
   "source": [
    "ds_dir = '../data/'\n",
    "results_dir_simple = '../res/maps/mask-rcnn_simple/'\n",
    "results_dir_aug = '../res/maps/mask-rcnn_aug/'\n",
    "\n",
    "for sub_name in sub_names_emc:\n",
    "    \n",
    "    print (sub_name)\n",
    "    \n",
    "    sub_img_names = glob.glob(ds_dir+sub_name+'*/T1W_*.dcm')\n",
    "    \n",
    "    for sub_img_name in sub_img_names:\n",
    "        \n",
    "        vessels_pred_simple = detect_ca(sub_img_name, model_simple, resize = True)\n",
    "        vessels_pred_aug = detect_ca(sub_img_name, model_aug, resize = True)       \n",
    "       \n",
    "        np.save(results_dir_simple + sub_name + '/' + sub_img_name.split(os.sep)[2][-17:-11] + '.npy', \n",
    "                vessels_pred_simple)\n",
    "        np.save(results_dir_aug + sub_name + '/' + sub_img_name.split(os.sep)[2][-17:-11] + '.npy', \n",
    "                vessels_pred_aug)"
   ]
  },
  {
   "cell_type": "code",
   "execution_count": null,
   "metadata": {},
   "outputs": [],
   "source": []
  }
 ],
 "metadata": {
  "kernelspec": {
   "display_name": "Python 3 (ipykernel)",
   "language": "python",
   "name": "python3"
  },
  "language_info": {
   "codemirror_mode": {
    "name": "ipython",
    "version": 3
   },
   "file_extension": ".py",
   "mimetype": "text/x-python",
   "name": "python",
   "nbconvert_exporter": "python",
   "pygments_lexer": "ipython3",
   "version": "3.7.0"
  }
 },
 "nbformat": 4,
 "nbformat_minor": 2
}
